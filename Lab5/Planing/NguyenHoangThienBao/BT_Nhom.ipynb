{
 "cells": [
  {
   "cell_type": "markdown",
   "id": "131c2cc2",
   "metadata": {},
   "source": [
    "# 13.3 US Baby Names 1880–2010"
   ]
  },
  {
   "cell_type": "markdown",
   "id": "7b67fdb0",
   "metadata": {},
   "source": [
    "Import thư viện và nạp dữ liệu"
   ]
  },
  {
   "cell_type": "code",
   "execution_count": 5,
   "id": "e50bd3f9",
   "metadata": {},
   "outputs": [
    {
     "data": {
      "text/html": [
       "<div>\n",
       "<style scoped>\n",
       "    .dataframe tbody tr th:only-of-type {\n",
       "        vertical-align: middle;\n",
       "    }\n",
       "\n",
       "    .dataframe tbody tr th {\n",
       "        vertical-align: top;\n",
       "    }\n",
       "\n",
       "    .dataframe thead th {\n",
       "        text-align: right;\n",
       "    }\n",
       "</style>\n",
       "<table border=\"1\" class=\"dataframe\">\n",
       "  <thead>\n",
       "    <tr style=\"text-align: right;\">\n",
       "      <th></th>\n",
       "      <th>name</th>\n",
       "      <th>sex</th>\n",
       "      <th>births</th>\n",
       "    </tr>\n",
       "  </thead>\n",
       "  <tbody>\n",
       "    <tr>\n",
       "      <th>0</th>\n",
       "      <td>Mary</td>\n",
       "      <td>F</td>\n",
       "      <td>7065</td>\n",
       "    </tr>\n",
       "    <tr>\n",
       "      <th>1</th>\n",
       "      <td>Anna</td>\n",
       "      <td>F</td>\n",
       "      <td>2604</td>\n",
       "    </tr>\n",
       "    <tr>\n",
       "      <th>2</th>\n",
       "      <td>Emma</td>\n",
       "      <td>F</td>\n",
       "      <td>2003</td>\n",
       "    </tr>\n",
       "    <tr>\n",
       "      <th>3</th>\n",
       "      <td>Elizabeth</td>\n",
       "      <td>F</td>\n",
       "      <td>1939</td>\n",
       "    </tr>\n",
       "    <tr>\n",
       "      <th>4</th>\n",
       "      <td>Minnie</td>\n",
       "      <td>F</td>\n",
       "      <td>1746</td>\n",
       "    </tr>\n",
       "    <tr>\n",
       "      <th>...</th>\n",
       "      <td>...</td>\n",
       "      <td>...</td>\n",
       "      <td>...</td>\n",
       "    </tr>\n",
       "    <tr>\n",
       "      <th>1995</th>\n",
       "      <td>Woodie</td>\n",
       "      <td>M</td>\n",
       "      <td>5</td>\n",
       "    </tr>\n",
       "    <tr>\n",
       "      <th>1996</th>\n",
       "      <td>Worthy</td>\n",
       "      <td>M</td>\n",
       "      <td>5</td>\n",
       "    </tr>\n",
       "    <tr>\n",
       "      <th>1997</th>\n",
       "      <td>Wright</td>\n",
       "      <td>M</td>\n",
       "      <td>5</td>\n",
       "    </tr>\n",
       "    <tr>\n",
       "      <th>1998</th>\n",
       "      <td>York</td>\n",
       "      <td>M</td>\n",
       "      <td>5</td>\n",
       "    </tr>\n",
       "    <tr>\n",
       "      <th>1999</th>\n",
       "      <td>Zachariah</td>\n",
       "      <td>M</td>\n",
       "      <td>5</td>\n",
       "    </tr>\n",
       "  </tbody>\n",
       "</table>\n",
       "<p>2000 rows × 3 columns</p>\n",
       "</div>"
      ],
      "text/plain": [
       "           name sex  births\n",
       "0          Mary   F    7065\n",
       "1          Anna   F    2604\n",
       "2          Emma   F    2003\n",
       "3     Elizabeth   F    1939\n",
       "4        Minnie   F    1746\n",
       "...         ...  ..     ...\n",
       "1995     Woodie   M       5\n",
       "1996     Worthy   M       5\n",
       "1997     Wright   M       5\n",
       "1998       York   M       5\n",
       "1999  Zachariah   M       5\n",
       "\n",
       "[2000 rows x 3 columns]"
      ]
     },
     "execution_count": 5,
     "metadata": {},
     "output_type": "execute_result"
    }
   ],
   "source": [
    "import pandas as pd\n",
    "import matplotlib.pyplot as plt\n",
    "import numpy as np\n",
    "import os\n",
    "names1880 = pd.read_csv(\"datasets/babynames/yob1880.txt\",\n",
    "                        names=[\"name\", \"sex\", \"births\"])\n",
    "names1880"
   ]
  },
  {
   "cell_type": "markdown",
   "id": "7c538691",
   "metadata": {},
   "source": [
    "**Nhận xét**\n",
    "\n",
    "Tải và xem sơ bộ dữ liệu gốc năm 1880\n",
    "\n",
    "Dữ liệu có 3 cột chính:\n",
    "\n",
    "    name: Tên của trẻ em được ghi nhận.\n",
    "\n",
    "    sex: Giới tính của đứa trẻ là \"M\" (nam) hoặc \"F\" (nữ).\n",
    "\n",
    "    births: Số lượng trẻ sinh ra có tên đó."
   ]
  },
  {
   "cell_type": "markdown",
   "id": "5309f67f",
   "metadata": {},
   "source": [
    "Tổng hợp số lượng sinh theo giới tính"
   ]
  },
  {
   "cell_type": "code",
   "execution_count": 2,
   "id": "b5af4e33",
   "metadata": {},
   "outputs": [
    {
     "data": {
      "text/plain": [
       "sex\n",
       "F     90993\n",
       "M    110493\n",
       "Name: births, dtype: int64"
      ]
     },
     "execution_count": 2,
     "metadata": {},
     "output_type": "execute_result"
    }
   ],
   "source": [
    "names1880.groupby(\"sex\")[\"births\"].sum()"
   ]
  },
  {
   "cell_type": "markdown",
   "id": "935562ec",
   "metadata": {},
   "source": [
    "**Nhận xét**\n",
    "\n",
    "Giúp biết tổng số bé trai và bé gái sinh trong năm 1880."
   ]
  },
  {
   "cell_type": "markdown",
   "id": "4d8b1dca",
   "metadata": {},
   "source": [
    "Hợp nhất dữ liệu từ 1880 đến 2010"
   ]
  },
  {
   "cell_type": "code",
   "execution_count": 3,
   "id": "07cafb7b",
   "metadata": {},
   "outputs": [
    {
     "data": {
      "text/html": [
       "<div>\n",
       "<style scoped>\n",
       "    .dataframe tbody tr th:only-of-type {\n",
       "        vertical-align: middle;\n",
       "    }\n",
       "\n",
       "    .dataframe tbody tr th {\n",
       "        vertical-align: top;\n",
       "    }\n",
       "\n",
       "    .dataframe thead th {\n",
       "        text-align: right;\n",
       "    }\n",
       "</style>\n",
       "<table border=\"1\" class=\"dataframe\">\n",
       "  <thead>\n",
       "    <tr style=\"text-align: right;\">\n",
       "      <th></th>\n",
       "      <th>name</th>\n",
       "      <th>sex</th>\n",
       "      <th>births</th>\n",
       "      <th>year</th>\n",
       "    </tr>\n",
       "  </thead>\n",
       "  <tbody>\n",
       "    <tr>\n",
       "      <th>0</th>\n",
       "      <td>Mary</td>\n",
       "      <td>F</td>\n",
       "      <td>7065</td>\n",
       "      <td>1880</td>\n",
       "    </tr>\n",
       "    <tr>\n",
       "      <th>1</th>\n",
       "      <td>Anna</td>\n",
       "      <td>F</td>\n",
       "      <td>2604</td>\n",
       "      <td>1880</td>\n",
       "    </tr>\n",
       "    <tr>\n",
       "      <th>2</th>\n",
       "      <td>Emma</td>\n",
       "      <td>F</td>\n",
       "      <td>2003</td>\n",
       "      <td>1880</td>\n",
       "    </tr>\n",
       "    <tr>\n",
       "      <th>3</th>\n",
       "      <td>Elizabeth</td>\n",
       "      <td>F</td>\n",
       "      <td>1939</td>\n",
       "      <td>1880</td>\n",
       "    </tr>\n",
       "    <tr>\n",
       "      <th>4</th>\n",
       "      <td>Minnie</td>\n",
       "      <td>F</td>\n",
       "      <td>1746</td>\n",
       "      <td>1880</td>\n",
       "    </tr>\n",
       "    <tr>\n",
       "      <th>...</th>\n",
       "      <td>...</td>\n",
       "      <td>...</td>\n",
       "      <td>...</td>\n",
       "      <td>...</td>\n",
       "    </tr>\n",
       "    <tr>\n",
       "      <th>1690779</th>\n",
       "      <td>Zymaire</td>\n",
       "      <td>M</td>\n",
       "      <td>5</td>\n",
       "      <td>2010</td>\n",
       "    </tr>\n",
       "    <tr>\n",
       "      <th>1690780</th>\n",
       "      <td>Zyonne</td>\n",
       "      <td>M</td>\n",
       "      <td>5</td>\n",
       "      <td>2010</td>\n",
       "    </tr>\n",
       "    <tr>\n",
       "      <th>1690781</th>\n",
       "      <td>Zyquarius</td>\n",
       "      <td>M</td>\n",
       "      <td>5</td>\n",
       "      <td>2010</td>\n",
       "    </tr>\n",
       "    <tr>\n",
       "      <th>1690782</th>\n",
       "      <td>Zyran</td>\n",
       "      <td>M</td>\n",
       "      <td>5</td>\n",
       "      <td>2010</td>\n",
       "    </tr>\n",
       "    <tr>\n",
       "      <th>1690783</th>\n",
       "      <td>Zzyzx</td>\n",
       "      <td>M</td>\n",
       "      <td>5</td>\n",
       "      <td>2010</td>\n",
       "    </tr>\n",
       "  </tbody>\n",
       "</table>\n",
       "<p>1690784 rows × 4 columns</p>\n",
       "</div>"
      ],
      "text/plain": [
       "              name sex  births  year\n",
       "0             Mary   F    7065  1880\n",
       "1             Anna   F    2604  1880\n",
       "2             Emma   F    2003  1880\n",
       "3        Elizabeth   F    1939  1880\n",
       "4           Minnie   F    1746  1880\n",
       "...            ...  ..     ...   ...\n",
       "1690779    Zymaire   M       5  2010\n",
       "1690780     Zyonne   M       5  2010\n",
       "1690781  Zyquarius   M       5  2010\n",
       "1690782      Zyran   M       5  2010\n",
       "1690783      Zzyzx   M       5  2010\n",
       "\n",
       "[1690784 rows x 4 columns]"
      ]
     },
     "metadata": {},
     "output_type": "display_data"
    }
   ],
   "source": [
    "pieces = []\n",
    "for year in range(1880, 2011):\n",
    "    path = f\"datasets/babynames/yob{year}.txt\"\n",
    "    frame = pd.read_csv(path, names=[\"name\", \"sex\", \"births\"])\n",
    "\n",
    "    # Add a column for the year\n",
    "    frame[\"year\"] = year\n",
    "    pieces.append(frame)\n",
    "\n",
    "# Concatenate everything into a single DataFrame\n",
    "names = pd.concat(pieces, ignore_index=True)\n",
    "display(names)"
   ]
  },
  {
   "cell_type": "markdown",
   "id": "0c5b10b1",
   "metadata": {},
   "source": [
    "**Nhận xét:**\n",
    "\n",
    "Đọc dữ liệu tên trẻ em từ năm 1880 đến 2010, thêm cột “year” để ghi lại năm tương ứng\n"
   ]
  },
  {
   "cell_type": "markdown",
   "id": "b994e2d5",
   "metadata": {},
   "source": [
    "Phân tích tổng số trẻ sơ sinh theo năm và giới tính"
   ]
  },
  {
   "cell_type": "code",
   "execution_count": 4,
   "id": "b0403078",
   "metadata": {},
   "outputs": [
    {
     "name": "stderr",
     "output_type": "stream",
     "text": [
      "C:\\Users\\Admin\\AppData\\Local\\Temp\\ipykernel_3796\\1917876311.py:1: FutureWarning: The provided callable <built-in function sum> is currently using DataFrameGroupBy.sum. In a future version of pandas, the provided callable will be used directly. To keep current behavior pass the string \"sum\" instead.\n",
      "  total_births = names.pivot_table(\"births\", index=\"year\",\n"
     ]
    },
    {
     "data": {
      "image/png": "[encoded data removed]",
      "text/plain": [
       "<Figure size 640x480 with 1 Axes>"
      ]
     },
     "metadata": {},
     "output_type": "display_data"
    }
   ],
   "source": [
    "total_births = names.pivot_table(\"births\", index=\"year\",\n",
    "                                 columns=\"sex\", aggfunc=sum)\n",
    "total_births.tail()\n",
    "#total_births.plot(title=\"Total births by sex and year\")\n",
    "total_births.plot(title=\"Tổng số trẻ sơ sinh theo giới tính qua các năm\")\n",
    "plt.savefig(\"images/total_births_chart.pdf\")"
   ]
  },
  {
   "cell_type": "markdown",
   "id": "774dd003",
   "metadata": {},
   "source": [
    "**Nhận xét:**\n",
    "\n",
    "Biểu đồ cho thấy số trẻ sinh tăng mạnh dần qua các năm\n",
    "\n",
    "Trẻ nam (M) luôn nhiều hơn trẻ nữ (F) trong hầu hết các năm.\n",
    "\n",
    "Khoảng cách giữa hai đường F và M thường khá ổn định, cho thấy xu hướng sinh con trai cao hơn con gái là phổ biến."
   ]
  },
  {
   "cell_type": "markdown",
   "id": "3e81a038",
   "metadata": {},
   "source": [
    "Tính tỉ lệ phổ biến của từng tên"
   ]
  },
  {
   "cell_type": "code",
   "execution_count": 5,
   "id": "77e5fa71",
   "metadata": {},
   "outputs": [
    {
     "name": "stderr",
     "output_type": "stream",
     "text": [
      "C:\\Users\\Admin\\AppData\\Local\\Temp\\ipykernel_3796\\2779158485.py:4: FutureWarning: DataFrameGroupBy.apply operated on the grouping columns. This behavior is deprecated, and in a future version of pandas the grouping columns will be excluded from the operation. Either pass `include_groups=False` to exclude the groupings or explicitly select the grouping columns after groupby to silence this warning.\n",
      "  names = names.groupby([\"year\", \"sex\"], group_keys=False).apply(add_prop)\n"
     ]
    },
    {
     "data": {
      "text/html": [
       "<div>\n",
       "<style scoped>\n",
       "    .dataframe tbody tr th:only-of-type {\n",
       "        vertical-align: middle;\n",
       "    }\n",
       "\n",
       "    .dataframe tbody tr th {\n",
       "        vertical-align: top;\n",
       "    }\n",
       "\n",
       "    .dataframe thead th {\n",
       "        text-align: right;\n",
       "    }\n",
       "</style>\n",
       "<table border=\"1\" class=\"dataframe\">\n",
       "  <thead>\n",
       "    <tr style=\"text-align: right;\">\n",
       "      <th></th>\n",
       "      <th>name</th>\n",
       "      <th>sex</th>\n",
       "      <th>births</th>\n",
       "      <th>year</th>\n",
       "      <th>prop</th>\n",
       "    </tr>\n",
       "  </thead>\n",
       "  <tbody>\n",
       "    <tr>\n",
       "      <th>0</th>\n",
       "      <td>Mary</td>\n",
       "      <td>F</td>\n",
       "      <td>7065</td>\n",
       "      <td>1880</td>\n",
       "      <td>0.077643</td>\n",
       "    </tr>\n",
       "    <tr>\n",
       "      <th>1</th>\n",
       "      <td>Anna</td>\n",
       "      <td>F</td>\n",
       "      <td>2604</td>\n",
       "      <td>1880</td>\n",
       "      <td>0.028618</td>\n",
       "    </tr>\n",
       "    <tr>\n",
       "      <th>2</th>\n",
       "      <td>Emma</td>\n",
       "      <td>F</td>\n",
       "      <td>2003</td>\n",
       "      <td>1880</td>\n",
       "      <td>0.022013</td>\n",
       "    </tr>\n",
       "    <tr>\n",
       "      <th>3</th>\n",
       "      <td>Elizabeth</td>\n",
       "      <td>F</td>\n",
       "      <td>1939</td>\n",
       "      <td>1880</td>\n",
       "      <td>0.021309</td>\n",
       "    </tr>\n",
       "    <tr>\n",
       "      <th>4</th>\n",
       "      <td>Minnie</td>\n",
       "      <td>F</td>\n",
       "      <td>1746</td>\n",
       "      <td>1880</td>\n",
       "      <td>0.019188</td>\n",
       "    </tr>\n",
       "    <tr>\n",
       "      <th>...</th>\n",
       "      <td>...</td>\n",
       "      <td>...</td>\n",
       "      <td>...</td>\n",
       "      <td>...</td>\n",
       "      <td>...</td>\n",
       "    </tr>\n",
       "    <tr>\n",
       "      <th>1690779</th>\n",
       "      <td>Zymaire</td>\n",
       "      <td>M</td>\n",
       "      <td>5</td>\n",
       "      <td>2010</td>\n",
       "      <td>0.000003</td>\n",
       "    </tr>\n",
       "    <tr>\n",
       "      <th>1690780</th>\n",
       "      <td>Zyonne</td>\n",
       "      <td>M</td>\n",
       "      <td>5</td>\n",
       "      <td>2010</td>\n",
       "      <td>0.000003</td>\n",
       "    </tr>\n",
       "    <tr>\n",
       "      <th>1690781</th>\n",
       "      <td>Zyquarius</td>\n",
       "      <td>M</td>\n",
       "      <td>5</td>\n",
       "      <td>2010</td>\n",
       "      <td>0.000003</td>\n",
       "    </tr>\n",
       "    <tr>\n",
       "      <th>1690782</th>\n",
       "      <td>Zyran</td>\n",
       "      <td>M</td>\n",
       "      <td>5</td>\n",
       "      <td>2010</td>\n",
       "      <td>0.000003</td>\n",
       "    </tr>\n",
       "    <tr>\n",
       "      <th>1690783</th>\n",
       "      <td>Zzyzx</td>\n",
       "      <td>M</td>\n",
       "      <td>5</td>\n",
       "      <td>2010</td>\n",
       "      <td>0.000003</td>\n",
       "    </tr>\n",
       "  </tbody>\n",
       "</table>\n",
       "<p>1690784 rows × 5 columns</p>\n",
       "</div>"
      ],
      "text/plain": [
       "              name sex  births  year      prop\n",
       "0             Mary   F    7065  1880  0.077643\n",
       "1             Anna   F    2604  1880  0.028618\n",
       "2             Emma   F    2003  1880  0.022013\n",
       "3        Elizabeth   F    1939  1880  0.021309\n",
       "4           Minnie   F    1746  1880  0.019188\n",
       "...            ...  ..     ...   ...       ...\n",
       "1690779    Zymaire   M       5  2010  0.000003\n",
       "1690780     Zyonne   M       5  2010  0.000003\n",
       "1690781  Zyquarius   M       5  2010  0.000003\n",
       "1690782      Zyran   M       5  2010  0.000003\n",
       "1690783      Zzyzx   M       5  2010  0.000003\n",
       "\n",
       "[1690784 rows x 5 columns]"
      ]
     },
     "metadata": {},
     "output_type": "display_data"
    }
   ],
   "source": [
    "def add_prop(group):\n",
    "    group[\"prop\"] = group[\"births\"] / group[\"births\"].sum()\n",
    "    return group\n",
    "names = names.groupby([\"year\", \"sex\"], group_keys=False).apply(add_prop)\n",
    "display(names)"
   ]
  },
  {
   "cell_type": "markdown",
   "id": "d55ee3be",
   "metadata": {},
   "source": [
    "**Nhận xét:**\n",
    "\n",
    "Thêm cột prop để biểu thị tỉ lệ trẻ mang mỗi tên trong tổng số trẻ sinh cùng năm và giới tính.\n",
    "\n",
    "Điều này giúp so sánh mức độ phổ biến của các tên theo thời gian, thay vì chỉ dựa vào số lượng tuyệt đối."
   ]
  },
  {
   "cell_type": "markdown",
   "id": "65828561",
   "metadata": {},
   "source": [
    "Kiểm tra tổng tỉ lệ (prop) theo năm và giới tính"
   ]
  },
  {
   "cell_type": "code",
   "execution_count": 6,
   "id": "1ea5cbc0",
   "metadata": {},
   "outputs": [
    {
     "data": {
      "text/plain": [
       "year  sex\n",
       "1880  F      1.0\n",
       "      M      1.0\n",
       "1881  F      1.0\n",
       "      M      1.0\n",
       "1882  F      1.0\n",
       "            ... \n",
       "2008  M      1.0\n",
       "2009  F      1.0\n",
       "      M      1.0\n",
       "2010  F      1.0\n",
       "      M      1.0\n",
       "Name: prop, Length: 262, dtype: float64"
      ]
     },
     "execution_count": 6,
     "metadata": {},
     "output_type": "execute_result"
    }
   ],
   "source": [
    "names.groupby([\"year\", \"sex\"])[\"prop\"].sum()"
   ]
  },
  {
   "cell_type": "markdown",
   "id": "1f9b861b",
   "metadata": {},
   "source": [
    "**Nhận xét:**\n",
    "\n",
    "Kiểm tra xem tổng tỉ lệ prop trong mỗi nhóm (năm + giới tính) có bằng 1 hay không."
   ]
  },
  {
   "cell_type": "markdown",
   "id": "48563fe3",
   "metadata": {},
   "source": [
    "Lấy 1000 tên phổ biến nhất theo năm và giới tính"
   ]
  },
  {
   "cell_type": "code",
   "execution_count": 7,
   "id": "9eb7411f",
   "metadata": {},
   "outputs": [
    {
     "name": "stderr",
     "output_type": "stream",
     "text": [
      "C:\\Users\\Admin\\AppData\\Local\\Temp\\ipykernel_3796\\2738497238.py:4: FutureWarning: DataFrameGroupBy.apply operated on the grouping columns. This behavior is deprecated, and in a future version of pandas the grouping columns will be excluded from the operation. Either pass `include_groups=False` to exclude the groupings or explicitly select the grouping columns after groupby to silence this warning.\n",
      "  top1000 = grouped.apply(get_top1000)\n"
     ]
    },
    {
     "data": {
      "text/html": [
       "<div>\n",
       "<style scoped>\n",
       "    .dataframe tbody tr th:only-of-type {\n",
       "        vertical-align: middle;\n",
       "    }\n",
       "\n",
       "    .dataframe tbody tr th {\n",
       "        vertical-align: top;\n",
       "    }\n",
       "\n",
       "    .dataframe thead th {\n",
       "        text-align: right;\n",
       "    }\n",
       "</style>\n",
       "<table border=\"1\" class=\"dataframe\">\n",
       "  <thead>\n",
       "    <tr style=\"text-align: right;\">\n",
       "      <th></th>\n",
       "      <th></th>\n",
       "      <th></th>\n",
       "      <th>name</th>\n",
       "      <th>sex</th>\n",
       "      <th>births</th>\n",
       "      <th>year</th>\n",
       "      <th>prop</th>\n",
       "    </tr>\n",
       "    <tr>\n",
       "      <th>year</th>\n",
       "      <th>sex</th>\n",
       "      <th></th>\n",
       "      <th></th>\n",
       "      <th></th>\n",
       "      <th></th>\n",
       "      <th></th>\n",
       "      <th></th>\n",
       "    </tr>\n",
       "  </thead>\n",
       "  <tbody>\n",
       "    <tr>\n",
       "      <th rowspan=\"5\" valign=\"top\">1880</th>\n",
       "      <th rowspan=\"5\" valign=\"top\">F</th>\n",
       "      <th>0</th>\n",
       "      <td>Mary</td>\n",
       "      <td>F</td>\n",
       "      <td>7065</td>\n",
       "      <td>1880</td>\n",
       "      <td>0.077643</td>\n",
       "    </tr>\n",
       "    <tr>\n",
       "      <th>1</th>\n",
       "      <td>Anna</td>\n",
       "      <td>F</td>\n",
       "      <td>2604</td>\n",
       "      <td>1880</td>\n",
       "      <td>0.028618</td>\n",
       "    </tr>\n",
       "    <tr>\n",
       "      <th>2</th>\n",
       "      <td>Emma</td>\n",
       "      <td>F</td>\n",
       "      <td>2003</td>\n",
       "      <td>1880</td>\n",
       "      <td>0.022013</td>\n",
       "    </tr>\n",
       "    <tr>\n",
       "      <th>3</th>\n",
       "      <td>Elizabeth</td>\n",
       "      <td>F</td>\n",
       "      <td>1939</td>\n",
       "      <td>1880</td>\n",
       "      <td>0.021309</td>\n",
       "    </tr>\n",
       "    <tr>\n",
       "      <th>4</th>\n",
       "      <td>Minnie</td>\n",
       "      <td>F</td>\n",
       "      <td>1746</td>\n",
       "      <td>1880</td>\n",
       "      <td>0.019188</td>\n",
       "    </tr>\n",
       "  </tbody>\n",
       "</table>\n",
       "</div>"
      ],
      "text/plain": [
       "                 name sex  births  year      prop\n",
       "year sex                                         \n",
       "1880 F   0       Mary   F    7065  1880  0.077643\n",
       "         1       Anna   F    2604  1880  0.028618\n",
       "         2       Emma   F    2003  1880  0.022013\n",
       "         3  Elizabeth   F    1939  1880  0.021309\n",
       "         4     Minnie   F    1746  1880  0.019188"
      ]
     },
     "execution_count": 7,
     "metadata": {},
     "output_type": "execute_result"
    }
   ],
   "source": [
    "def get_top1000(group):\n",
    "    return group.sort_values(\"births\", ascending=False)[:1000]\n",
    "grouped = names.groupby([\"year\", \"sex\"])\n",
    "top1000 = grouped.apply(get_top1000)\n",
    "top1000.head()"
   ]
  },
  {
   "cell_type": "markdown",
   "id": "7c98e062",
   "metadata": {},
   "source": [
    "**Nhận xét:**\n",
    "\n",
    "Sắp xếp các tên trong từng nhóm (năm + giới tính) theo số lượng trẻ sinh (births) giảm dần, rồi lấy 1000 tên phổ biến nhất.\n",
    "\n",
    "Nhằm phục vụ cho việc phân tích xu hướng tên qua thời gian."
   ]
  },
  {
   "cell_type": "markdown",
   "id": "8583850f",
   "metadata": {},
   "source": [
    "Đặt lại chỉ mục cho bảng Top 1000 tên"
   ]
  },
  {
   "cell_type": "code",
   "execution_count": 8,
   "id": "45dbc693",
   "metadata": {},
   "outputs": [
    {
     "data": {
      "text/html": [
       "<div>\n",
       "<style scoped>\n",
       "    .dataframe tbody tr th:only-of-type {\n",
       "        vertical-align: middle;\n",
       "    }\n",
       "\n",
       "    .dataframe tbody tr th {\n",
       "        vertical-align: top;\n",
       "    }\n",
       "\n",
       "    .dataframe thead th {\n",
       "        text-align: right;\n",
       "    }\n",
       "</style>\n",
       "<table border=\"1\" class=\"dataframe\">\n",
       "  <thead>\n",
       "    <tr style=\"text-align: right;\">\n",
       "      <th></th>\n",
       "      <th>name</th>\n",
       "      <th>sex</th>\n",
       "      <th>births</th>\n",
       "      <th>year</th>\n",
       "      <th>prop</th>\n",
       "    </tr>\n",
       "  </thead>\n",
       "  <tbody>\n",
       "    <tr>\n",
       "      <th>0</th>\n",
       "      <td>Mary</td>\n",
       "      <td>F</td>\n",
       "      <td>7065</td>\n",
       "      <td>1880</td>\n",
       "      <td>0.077643</td>\n",
       "    </tr>\n",
       "    <tr>\n",
       "      <th>1</th>\n",
       "      <td>Anna</td>\n",
       "      <td>F</td>\n",
       "      <td>2604</td>\n",
       "      <td>1880</td>\n",
       "      <td>0.028618</td>\n",
       "    </tr>\n",
       "    <tr>\n",
       "      <th>2</th>\n",
       "      <td>Emma</td>\n",
       "      <td>F</td>\n",
       "      <td>2003</td>\n",
       "      <td>1880</td>\n",
       "      <td>0.022013</td>\n",
       "    </tr>\n",
       "    <tr>\n",
       "      <th>3</th>\n",
       "      <td>Elizabeth</td>\n",
       "      <td>F</td>\n",
       "      <td>1939</td>\n",
       "      <td>1880</td>\n",
       "      <td>0.021309</td>\n",
       "    </tr>\n",
       "    <tr>\n",
       "      <th>4</th>\n",
       "      <td>Minnie</td>\n",
       "      <td>F</td>\n",
       "      <td>1746</td>\n",
       "      <td>1880</td>\n",
       "      <td>0.019188</td>\n",
       "    </tr>\n",
       "  </tbody>\n",
       "</table>\n",
       "</div>"
      ],
      "text/plain": [
       "        name sex  births  year      prop\n",
       "0       Mary   F    7065  1880  0.077643\n",
       "1       Anna   F    2604  1880  0.028618\n",
       "2       Emma   F    2003  1880  0.022013\n",
       "3  Elizabeth   F    1939  1880  0.021309\n",
       "4     Minnie   F    1746  1880  0.019188"
      ]
     },
     "metadata": {},
     "output_type": "display_data"
    }
   ],
   "source": [
    "top1000 = top1000.reset_index(drop=True)\n",
    "display(top1000.head())"
   ]
  },
  {
   "cell_type": "markdown",
   "id": "64104d8e",
   "metadata": {},
   "source": [
    "**Nhận xét:**\n",
    "\n",
    "Nhằm xóa các chỉ mục cũ và tạo lại chỉ mục tuần tự mới giúp dữ liệu gọn gàng, dễ truy cập và trực quan hơn khi hiển thị."
   ]
  },
  {
   "cell_type": "markdown",
   "id": "c43d8de8",
   "metadata": {},
   "source": [
    "## Analyzing Naming Trends\n",
    "*Phân tích xu hướng đặt tên*"
   ]
  },
  {
   "cell_type": "markdown",
   "id": "4a111cb8",
   "metadata": {},
   "source": [
    "Tách dữ liệu theo giới tính"
   ]
  },
  {
   "cell_type": "code",
   "execution_count": 9,
   "id": "42705a16",
   "metadata": {},
   "outputs": [],
   "source": [
    "boys = top1000[top1000[\"sex\"] == \"M\"]\n",
    "girls = top1000[top1000[\"sex\"] == \"F\"]"
   ]
  },
  {
   "cell_type": "markdown",
   "id": "c55edff3",
   "metadata": {},
   "source": [
    "**Nhận xét:**\n",
    "\n",
    "Giúp dễ dàng so sánh xu hướng đặt tên giữa nam và nữ, hoặc phân tích sâu hơn từng giới tính"
   ]
  },
  {
   "cell_type": "markdown",
   "id": "250c18ff",
   "metadata": {},
   "source": [
    "Kiểm tra thông tin tổng quan của bảng tổng hợp số lượng sinh theo tên và năm"
   ]
  },
  {
   "cell_type": "code",
   "execution_count": 10,
   "id": "22f19a80",
   "metadata": {},
   "outputs": [
    {
     "name": "stderr",
     "output_type": "stream",
     "text": [
      "C:\\Users\\Admin\\AppData\\Local\\Temp\\ipykernel_3796\\1565621143.py:1: FutureWarning: The provided callable <built-in function sum> is currently using DataFrameGroupBy.sum. In a future version of pandas, the provided callable will be used directly. To keep current behavior pass the string \"sum\" instead.\n",
      "  total_births = top1000.pivot_table(\"births\", index=\"year\",\n"
     ]
    },
    {
     "name": "stdout",
     "output_type": "stream",
     "text": [
      "<class 'pandas.core.frame.DataFrame'>\n",
      "Index: 131 entries, 1880 to 2010\n",
      "Columns: 6868 entries, Aaden to Zuri\n",
      "dtypes: float64(6868)\n",
      "memory usage: 6.9 MB\n"
     ]
    }
   ],
   "source": [
    "total_births = top1000.pivot_table(\"births\", index=\"year\",\n",
    "                                   columns=\"name\",\n",
    "                                   aggfunc=sum)\n",
    "total_births.info()"
   ]
  },
  {
   "cell_type": "markdown",
   "id": "e99d19a2",
   "metadata": {},
   "source": [
    "Vẽ biểu đồ xu hướng của một số tên tiêu biểu"
   ]
  },
  {
   "cell_type": "code",
   "execution_count": 13,
   "id": "59349758",
   "metadata": {},
   "outputs": [
    {
     "data": {
      "image/png": "[encoded data removed]",
      "text/plain": [
       "<Figure size 1200x1000 with 4 Axes>"
      ]
     },
     "metadata": {},
     "output_type": "display_data"
    }
   ],
   "source": [
    "subset = total_births[[\"John\", \"Harry\", \"Mary\", \"Marilyn\"]]\n",
    "#subset.plot(subplots=True, figsize=(12, 10),\n",
    "#           title=\"Number of births per year\")\n",
    "subset = subset.plot(subplots=True, figsize=(12, 10),\n",
    "                 title=\"Số lượng trẻ sơ sinh theo tên qua các năm\")\n",
    "plt.tight_layout()\n",
    "plt.savefig(\"images/so_luong_tre_theo_ten.pdf\")"
   ]
  },
  {
   "cell_type": "markdown",
   "id": "f754f0d4",
   "metadata": {},
   "source": [
    "**Nhận xét:**\n",
    "\n",
    "Biểu đồ này minh họa mức độ phổ biến của các tên John, Harry, Mary, Marilyn qua thời gian.\n",
    "\n",
    "John: Xuất hiện ổn định từ 1880s, đạt đỉnh khoảng 1940–1950 với hơn 80.000 trẻ được đặt tên John mỗi năm. Sau 1960, độ phổ biến giảm dần nhưng vẫn là một trong những tên phổ biến \n",
    "\n",
    "Harry: Tăng nhanh vào khoảng 1910–1920, đạt đỉnh gần 10.000 trẻ/năm. Sau đó giảm dần, đặc biệt sau 1950.\n",
    "\n",
    "Mary: Là tên nữ phổ biến nhất trong suốt nửa đầu thế kỷ 20, đặc biệt 1910–1950 với hơn 60.000–70.000 trẻ/năm.\n",
    "\n",
    "Marilyn: Xuất hiện muộn hơn, nổi bật trong thập niên 1930–1950, sau đó giảm mạnh."
   ]
  },
  {
   "cell_type": "markdown",
   "id": "4e006add",
   "metadata": {},
   "source": [
    "### Measuring the increase in naming diversity\n",
    "*Đo lường mức độ đa dạng của tên theo thời gian*"
   ]
  },
  {
   "cell_type": "markdown",
   "id": "23675bc2",
   "metadata": {},
   "source": [
    "Tổng tỉ lệ phần trăm trong top 1000 tên theo giới tính qua từng năm"
   ]
  },
  {
   "cell_type": "code",
   "execution_count": 15,
   "id": "acac4c70",
   "metadata": {},
   "outputs": [
    {
     "name": "stderr",
     "output_type": "stream",
     "text": [
      "C:\\Users\\Admin\\AppData\\Local\\Temp\\ipykernel_3796\\514513397.py:1: FutureWarning: The provided callable <built-in function sum> is currently using DataFrameGroupBy.sum. In a future version of pandas, the provided callable will be used directly. To keep current behavior pass the string \"sum\" instead.\n",
      "  table = top1000.pivot_table(\"prop\", index=\"year\",\n"
     ]
    },
    {
     "data": {
      "image/png": "[encoded data removed]",
      "text/plain": [
       "<Figure size 1000x600 with 1 Axes>"
      ]
     },
     "metadata": {},
     "output_type": "display_data"
    }
   ],
   "source": [
    "table = top1000.pivot_table(\"prop\", index=\"year\",\n",
    "                            columns=\"sex\", aggfunc=sum)\n",
    "#table.plot(title=\"Sum of table1000.prop by year and sex\",\n",
    "#           yticks=np.linspace(0, 1.2, 13))\n",
    "table.plot(title=\"Tổng tỉ lệ trong top 1000 tên theo giới tính qua từng năm\",\n",
    "           yticks=np.linspace(0, 1.2, 13),\n",
    "           figsize=(10,6))\n",
    "plt.tight_layout()\n",
    "plt.savefig(\"images/tong_ty_le_top1000.pdf\")"
   ]
  },
  {
   "cell_type": "markdown",
   "id": "fec47bab",
   "metadata": {},
   "source": [
    "**Nhận xét:**\n",
    "\n",
    "Giai đoạn đầu (1880–1940), tổng tỉ lệ của top 1000 tên gần bằng 1.0. Hầu như tất cả trẻ em đều mang tên nằm trong nhóm phổ biến nhất.\n",
    "\n",
    "Sau năm 1950, đặc biệt là từ 1980 trở đi, đường biểu diễn giảm dần, rõ rệt hơn ở giới nữ (F).\n",
    "\n",
    "Điều này cho thấy xu hướng đa dạng hóa tên: ngày càng nhiều tên mới được đặt cho trẻ, khiến 1000 tên phổ biến nhất chiếm tỷ lệ nhỏ hơn tổng số trẻ sinh ra."
   ]
  },
  {
   "cell_type": "markdown",
   "id": "2d6b1d47",
   "metadata": {},
   "source": [
    "Lọc dữ liệu tên bé trai năm 2010"
   ]
  },
  {
   "cell_type": "code",
   "execution_count": 16,
   "id": "6a6893c8",
   "metadata": {},
   "outputs": [
    {
     "data": {
      "text/html": [
       "<div>\n",
       "<style scoped>\n",
       "    .dataframe tbody tr th:only-of-type {\n",
       "        vertical-align: middle;\n",
       "    }\n",
       "\n",
       "    .dataframe tbody tr th {\n",
       "        vertical-align: top;\n",
       "    }\n",
       "\n",
       "    .dataframe thead th {\n",
       "        text-align: right;\n",
       "    }\n",
       "</style>\n",
       "<table border=\"1\" class=\"dataframe\">\n",
       "  <thead>\n",
       "    <tr style=\"text-align: right;\">\n",
       "      <th></th>\n",
       "      <th>name</th>\n",
       "      <th>sex</th>\n",
       "      <th>births</th>\n",
       "      <th>year</th>\n",
       "      <th>prop</th>\n",
       "    </tr>\n",
       "  </thead>\n",
       "  <tbody>\n",
       "    <tr>\n",
       "      <th>260877</th>\n",
       "      <td>Jacob</td>\n",
       "      <td>M</td>\n",
       "      <td>21875</td>\n",
       "      <td>2010</td>\n",
       "      <td>0.011523</td>\n",
       "    </tr>\n",
       "    <tr>\n",
       "      <th>260878</th>\n",
       "      <td>Ethan</td>\n",
       "      <td>M</td>\n",
       "      <td>17866</td>\n",
       "      <td>2010</td>\n",
       "      <td>0.009411</td>\n",
       "    </tr>\n",
       "    <tr>\n",
       "      <th>260879</th>\n",
       "      <td>Michael</td>\n",
       "      <td>M</td>\n",
       "      <td>17133</td>\n",
       "      <td>2010</td>\n",
       "      <td>0.009025</td>\n",
       "    </tr>\n",
       "    <tr>\n",
       "      <th>260880</th>\n",
       "      <td>Jayden</td>\n",
       "      <td>M</td>\n",
       "      <td>17030</td>\n",
       "      <td>2010</td>\n",
       "      <td>0.008971</td>\n",
       "    </tr>\n",
       "    <tr>\n",
       "      <th>260881</th>\n",
       "      <td>William</td>\n",
       "      <td>M</td>\n",
       "      <td>16870</td>\n",
       "      <td>2010</td>\n",
       "      <td>0.008887</td>\n",
       "    </tr>\n",
       "    <tr>\n",
       "      <th>...</th>\n",
       "      <td>...</td>\n",
       "      <td>...</td>\n",
       "      <td>...</td>\n",
       "      <td>...</td>\n",
       "      <td>...</td>\n",
       "    </tr>\n",
       "    <tr>\n",
       "      <th>261872</th>\n",
       "      <td>Camilo</td>\n",
       "      <td>M</td>\n",
       "      <td>194</td>\n",
       "      <td>2010</td>\n",
       "      <td>0.000102</td>\n",
       "    </tr>\n",
       "    <tr>\n",
       "      <th>261873</th>\n",
       "      <td>Destin</td>\n",
       "      <td>M</td>\n",
       "      <td>194</td>\n",
       "      <td>2010</td>\n",
       "      <td>0.000102</td>\n",
       "    </tr>\n",
       "    <tr>\n",
       "      <th>261874</th>\n",
       "      <td>Jaquan</td>\n",
       "      <td>M</td>\n",
       "      <td>194</td>\n",
       "      <td>2010</td>\n",
       "      <td>0.000102</td>\n",
       "    </tr>\n",
       "    <tr>\n",
       "      <th>261875</th>\n",
       "      <td>Jaydan</td>\n",
       "      <td>M</td>\n",
       "      <td>194</td>\n",
       "      <td>2010</td>\n",
       "      <td>0.000102</td>\n",
       "    </tr>\n",
       "    <tr>\n",
       "      <th>261876</th>\n",
       "      <td>Maxton</td>\n",
       "      <td>M</td>\n",
       "      <td>193</td>\n",
       "      <td>2010</td>\n",
       "      <td>0.000102</td>\n",
       "    </tr>\n",
       "  </tbody>\n",
       "</table>\n",
       "<p>1000 rows × 5 columns</p>\n",
       "</div>"
      ],
      "text/plain": [
       "           name sex  births  year      prop\n",
       "260877    Jacob   M   21875  2010  0.011523\n",
       "260878    Ethan   M   17866  2010  0.009411\n",
       "260879  Michael   M   17133  2010  0.009025\n",
       "260880   Jayden   M   17030  2010  0.008971\n",
       "260881  William   M   16870  2010  0.008887\n",
       "...         ...  ..     ...   ...       ...\n",
       "261872   Camilo   M     194  2010  0.000102\n",
       "261873   Destin   M     194  2010  0.000102\n",
       "261874   Jaquan   M     194  2010  0.000102\n",
       "261875   Jaydan   M     194  2010  0.000102\n",
       "261876   Maxton   M     193  2010  0.000102\n",
       "\n",
       "[1000 rows x 5 columns]"
      ]
     },
     "execution_count": 16,
     "metadata": {},
     "output_type": "execute_result"
    }
   ],
   "source": [
    "df = boys[boys[\"year\"] == 2010]\n",
    "df"
   ]
  },
  {
   "cell_type": "markdown",
   "id": "4a22a3f0",
   "metadata": {},
   "source": [
    "**Nhận xét:**\n",
    "\n",
    "Dùng để phân tích top 10 tên bé trai năm 2010."
   ]
  },
  {
   "cell_type": "markdown",
   "id": "2e2b3e41",
   "metadata": {},
   "source": [
    "Tính tích lũy tỉ lệ phần trăm của các tên bé trai năm 2010"
   ]
  },
  {
   "cell_type": "code",
   "execution_count": 20,
   "id": "b8b22de7",
   "metadata": {},
   "outputs": [
    {
     "data": {
      "text/plain": [
       "260877    1.15%\n",
       "260878    2.09%\n",
       "260879    3.00%\n",
       "260880    3.89%\n",
       "260881    4.78%\n",
       "260882    5.66%\n",
       "260883    6.52%\n",
       "260884    7.34%\n",
       "260885    8.15%\n",
       "260886    8.96%\n",
       "Name: prop, dtype: object"
      ]
     },
     "execution_count": 20,
     "metadata": {},
     "output_type": "execute_result"
    }
   ],
   "source": [
    "prop_cumsum = df[\"prop\"].sort_values(ascending=False).cumsum()\n",
    "prop_cumsum[:10].apply(lambda x: f\"{x*100:.2f}%\")"
   ]
  },
  {
   "cell_type": "markdown",
   "id": "96a0f635",
   "metadata": {},
   "source": [
    "**Nhận xét:**\n",
    "\n",
    "Tên phổ biến nhất chiếm 1.15% tổng số bé trai năm 2010.\n",
    "\n",
    "Top 2 tên phổ biến nhất cộng lại chiếm 2.09% tổng số.\n",
    "\n",
    "Top 3 tên chiếm gần 3.0%.\n",
    "\n",
    "Top 10 tên phổ biến nhất năm 2010 chỉ chiếm khoảng 9% tổng số trẻ trai, cho thấy các tên khá đa dạng, không tập trung vào vài tên như những năm xưa."
   ]
  },
  {
   "cell_type": "markdown",
   "id": "8cd7f94d",
   "metadata": {},
   "source": [
    "Xác định số lượng tên chiếm 50% tổng số trẻ sinh trong năm 2010"
   ]
  },
  {
   "cell_type": "code",
   "execution_count": 21,
   "id": "83d0e49c",
   "metadata": {},
   "outputs": [
    {
     "data": {
      "text/plain": [
       "116"
      ]
     },
     "execution_count": 21,
     "metadata": {},
     "output_type": "execute_result"
    }
   ],
   "source": [
    "prop_cumsum.searchsorted(0.5)"
   ]
  },
  {
   "cell_type": "markdown",
   "id": "b5a257fb",
   "metadata": {},
   "source": [
    "**Nhận xét:**\n",
    "\n",
    "Cần 117 tên phổ biến nhất để chiếm 50% tổng số trẻ sinh năm 2010.(Vì mảng bắt đầu từ 0)\n",
    "\n",
    "Điều này cho thấy độ đa dạng tên rất cao, vì phải tới 117 tên mới chiếm nửa dân số bé trai. "
   ]
  },
  {
   "cell_type": "markdown",
   "id": "87695cb8",
   "metadata": {},
   "source": [
    "Xác định số lượng tên bé trai năm 1900 chiếm 50% tổng số trẻ sinh"
   ]
  },
  {
   "cell_type": "code",
   "execution_count": 22,
   "id": "e11e2afa",
   "metadata": {},
   "outputs": [
    {
     "data": {
      "text/plain": [
       "25"
      ]
     },
     "execution_count": 22,
     "metadata": {},
     "output_type": "execute_result"
    }
   ],
   "source": [
    "df = boys[boys.year == 1900]\n",
    "in1900 = df.sort_values(\"prop\", ascending=False).prop.cumsum()\n",
    "in1900.searchsorted(0.5) + 1"
   ]
  },
  {
   "cell_type": "markdown",
   "id": "62e06b21",
   "metadata": {},
   "source": [
    "**Nhận xét:**\n",
    "\n",
    "Cần 26 tên phổ biến nhất để chiếm 50% tổng số trẻ sinh năm 1990. \n",
    "\n",
    "Chứng tỏ nhiều trẻ được đặt cùng vài tên phổ biến. Mức đa dạng tên thấp hơn so với các năm sau."
   ]
  },
  {
   "cell_type": "markdown",
   "id": "5a5aa7c2",
   "metadata": {},
   "source": [
    "Tính độ đa dạng tên theo thời gian (điểm phân vị 50%)"
   ]
  },
  {
   "cell_type": "code",
   "execution_count": 24,
   "id": "f80cf40c",
   "metadata": {},
   "outputs": [
    {
     "name": "stderr",
     "output_type": "stream",
     "text": [
      "C:\\Users\\Admin\\AppData\\Local\\Temp\\ipykernel_3796\\1666708627.py:5: FutureWarning: DataFrameGroupBy.apply operated on the grouping columns. This behavior is deprecated, and in a future version of pandas the grouping columns will be excluded from the operation. Either pass `include_groups=False` to exclude the groupings or explicitly select the grouping columns after groupby to silence this warning.\n",
      "  diversity = top1000.groupby([\"year\", \"sex\"]).apply(get_quantile_count)\n"
     ]
    }
   ],
   "source": [
    "def get_quantile_count(group, q=0.5):\n",
    "    group = group.sort_values(\"prop\", ascending=False)\n",
    "    return group.prop.cumsum().searchsorted(q) + 1\n",
    "\n",
    "diversity = top1000.groupby([\"year\", \"sex\"]).apply(get_quantile_count)\n",
    "diversity = diversity.unstack()"
   ]
  },
  {
   "cell_type": "markdown",
   "id": "e516062b",
   "metadata": {},
   "source": [
    "**Nhận xét:**\n",
    "\n",
    "Giúp đo lường mức độ đa dạng tên qua các năm — cụ thể là bao nhiêu tên phổ biến nhất chiếm 50% tổng số trẻ sinh.\n",
    "\n",
    "Giá trị càng cao → tên càng đa dạng.\n",
    "\n",
    "Giá trị thấp → tập trung vào ít tên phổ biến hơn."
   ]
  },
  {
   "cell_type": "markdown",
   "id": "2f30082b",
   "metadata": {},
   "source": [
    "Bảng độ đa dạng tên"
   ]
  },
  {
   "cell_type": "code",
   "execution_count": 25,
   "id": "510592d5",
   "metadata": {},
   "outputs": [
    {
     "data": {
      "text/html": [
       "<div>\n",
       "<style scoped>\n",
       "    .dataframe tbody tr th:only-of-type {\n",
       "        vertical-align: middle;\n",
       "    }\n",
       "\n",
       "    .dataframe tbody tr th {\n",
       "        vertical-align: top;\n",
       "    }\n",
       "\n",
       "    .dataframe thead th {\n",
       "        text-align: right;\n",
       "    }\n",
       "</style>\n",
       "<table border=\"1\" class=\"dataframe\">\n",
       "  <thead>\n",
       "    <tr style=\"text-align: right;\">\n",
       "      <th>sex</th>\n",
       "      <th>F</th>\n",
       "      <th>M</th>\n",
       "    </tr>\n",
       "    <tr>\n",
       "      <th>year</th>\n",
       "      <th></th>\n",
       "      <th></th>\n",
       "    </tr>\n",
       "  </thead>\n",
       "  <tbody>\n",
       "    <tr>\n",
       "      <th>1880</th>\n",
       "      <td>38</td>\n",
       "      <td>14</td>\n",
       "    </tr>\n",
       "    <tr>\n",
       "      <th>1881</th>\n",
       "      <td>38</td>\n",
       "      <td>14</td>\n",
       "    </tr>\n",
       "    <tr>\n",
       "      <th>1882</th>\n",
       "      <td>38</td>\n",
       "      <td>15</td>\n",
       "    </tr>\n",
       "    <tr>\n",
       "      <th>1883</th>\n",
       "      <td>39</td>\n",
       "      <td>15</td>\n",
       "    </tr>\n",
       "    <tr>\n",
       "      <th>1884</th>\n",
       "      <td>39</td>\n",
       "      <td>16</td>\n",
       "    </tr>\n",
       "  </tbody>\n",
       "</table>\n",
       "</div>"
      ],
      "text/plain": [
       "sex    F   M\n",
       "year        \n",
       "1880  38  14\n",
       "1881  38  14\n",
       "1882  38  15\n",
       "1883  39  15\n",
       "1884  39  16"
      ]
     },
     "execution_count": 25,
     "metadata": {},
     "output_type": "execute_result"
    }
   ],
   "source": [
    "diversity.head()"
   ]
  },
  {
   "cell_type": "markdown",
   "id": "4c6acc8a",
   "metadata": {},
   "source": [
    "**Nhận xét:**\n",
    "\n",
    "Năm 1880 cần 38 tên nữ và 14 tên nam để đạt 50% tổng số trẻ sinh\n",
    "\n",
    "Năm 1884 cần 39 tên nữ và 16 tên nam.\n",
    "\n",
    "Nhìn chung, số lượng tên nữ luôn lớn hơn số tên nam, cho thấy tên nữ đa dạng hơn so với tên nam."
   ]
  },
  {
   "cell_type": "markdown",
   "id": "b903b177",
   "metadata": {},
   "source": [
    "Biểu đồ số lượng tên phổ biến chiếm 50% tổng trẻ sinh"
   ]
  },
  {
   "cell_type": "code",
   "execution_count": 30,
   "id": "7e84d981",
   "metadata": {},
   "outputs": [
    {
     "data": {
      "text/plain": [
       "<Figure size 640x480 with 0 Axes>"
      ]
     },
     "metadata": {},
     "output_type": "display_data"
    },
    {
     "data": {
      "image/png": "[encoded data removed]",
      "text/plain": [
       "<Figure size 640x480 with 1 Axes>"
      ]
     },
     "metadata": {},
     "output_type": "display_data"
    }
   ],
   "source": [
    "fig = plt.figure()\n",
    "#diversity.plot(title=\"Number of popular names in top 50%\")\n",
    "diversity.plot(title=\"Top 50% tên phổ biến\")\n",
    "plt.savefig(\"images/top50_ten_pho_bien.pdf\", format='pdf')"
   ]
  },
  {
   "cell_type": "markdown",
   "id": "3c85f91c",
   "metadata": {},
   "source": [
    "**Nhận xét:**\n",
    "\n",
    "Số lượng tên phổ biến của bé gái luôn cao hơn bé trai → Tên nữ đa dạng hơn.\n",
    "\n",
    "Từ khoảng năm 1940–1960, số lượng tên giữ ổn định, sau đó tăng mạnh, đặc biệt từ 1980 trở đi."
   ]
  },
  {
   "cell_type": "markdown",
   "id": "bc637f41",
   "metadata": {},
   "source": [
    "### The “last letter” revolution\n",
    "*Cuộc cách mạng chữ cái cuối trong tên*"
   ]
  },
  {
   "cell_type": "markdown",
   "id": "291a75d1",
   "metadata": {},
   "source": [
    "Ví dụ: “Anna” → “a”, “David” → “d”"
   ]
  },
  {
   "cell_type": "markdown",
   "id": "e6dbb509",
   "metadata": {},
   "source": [
    "Phân tích chữ cái cuối của tên"
   ]
  },
  {
   "cell_type": "code",
   "execution_count": 31,
   "id": "a739845e",
   "metadata": {},
   "outputs": [
    {
     "name": "stderr",
     "output_type": "stream",
     "text": [
      "C:\\Users\\Admin\\AppData\\Local\\Temp\\ipykernel_3796\\121524359.py:7: FutureWarning: The provided callable <built-in function sum> is currently using DataFrameGroupBy.sum. In a future version of pandas, the provided callable will be used directly. To keep current behavior pass the string \"sum\" instead.\n",
      "  table = names.pivot_table(\"births\", index=last_letters,\n"
     ]
    }
   ],
   "source": [
    "def get_last_letter(x):\n",
    "    return x[-1]\n",
    "\n",
    "last_letters = names[\"name\"].map(get_last_letter)\n",
    "last_letters.name = \"last_letter\"\n",
    "\n",
    "table = names.pivot_table(\"births\", index=last_letters,\n",
    "                          columns=[\"sex\", \"year\"], aggfunc=sum)"
   ]
  },
  {
   "cell_type": "markdown",
   "id": "0aaf1476",
   "metadata": {},
   "source": [
    "**Nhận xét:**\n",
    "\n",
    "Nhằm lấy chữ cái cuối của từng tên và tổng hợp số trẻ sinh ra theo chữ cái cuối của giới tính và năm.\n",
    "\n",
    "Giúp thấy xu hướng chữ cái cuối phổ biến theo giới tính và thay đổi theo thời gian, phục vụ cho phân tích “last letter revolution”."
   ]
  },
  {
   "cell_type": "markdown",
   "id": "72808a3f",
   "metadata": {},
   "source": [
    "Hiển thị việc lấy dữ liệu chữ cái cuối cho các năm tiêu biểu"
   ]
  },
  {
   "cell_type": "code",
   "execution_count": 32,
   "id": "af90d599",
   "metadata": {},
   "outputs": [
    {
     "data": {
      "text/html": [
       "<div>\n",
       "<style scoped>\n",
       "    .dataframe tbody tr th:only-of-type {\n",
       "        vertical-align: middle;\n",
       "    }\n",
       "\n",
       "    .dataframe tbody tr th {\n",
       "        vertical-align: top;\n",
       "    }\n",
       "\n",
       "    .dataframe thead tr th {\n",
       "        text-align: left;\n",
       "    }\n",
       "\n",
       "    .dataframe thead tr:last-of-type th {\n",
       "        text-align: right;\n",
       "    }\n",
       "</style>\n",
       "<table border=\"1\" class=\"dataframe\">\n",
       "  <thead>\n",
       "    <tr>\n",
       "      <th>sex</th>\n",
       "      <th colspan=\"3\" halign=\"left\">F</th>\n",
       "      <th colspan=\"3\" halign=\"left\">M</th>\n",
       "    </tr>\n",
       "    <tr>\n",
       "      <th>year</th>\n",
       "      <th>1910</th>\n",
       "      <th>1960</th>\n",
       "      <th>2010</th>\n",
       "      <th>1910</th>\n",
       "      <th>1960</th>\n",
       "      <th>2010</th>\n",
       "    </tr>\n",
       "    <tr>\n",
       "      <th>last_letter</th>\n",
       "      <th></th>\n",
       "      <th></th>\n",
       "      <th></th>\n",
       "      <th></th>\n",
       "      <th></th>\n",
       "      <th></th>\n",
       "    </tr>\n",
       "  </thead>\n",
       "  <tbody>\n",
       "    <tr>\n",
       "      <th>a</th>\n",
       "      <td>108376.0</td>\n",
       "      <td>691247.0</td>\n",
       "      <td>670605.0</td>\n",
       "      <td>977.0</td>\n",
       "      <td>5204.0</td>\n",
       "      <td>28438.0</td>\n",
       "    </tr>\n",
       "    <tr>\n",
       "      <th>b</th>\n",
       "      <td>NaN</td>\n",
       "      <td>694.0</td>\n",
       "      <td>450.0</td>\n",
       "      <td>411.0</td>\n",
       "      <td>3912.0</td>\n",
       "      <td>38859.0</td>\n",
       "    </tr>\n",
       "    <tr>\n",
       "      <th>c</th>\n",
       "      <td>5.0</td>\n",
       "      <td>49.0</td>\n",
       "      <td>946.0</td>\n",
       "      <td>482.0</td>\n",
       "      <td>15476.0</td>\n",
       "      <td>23125.0</td>\n",
       "    </tr>\n",
       "    <tr>\n",
       "      <th>d</th>\n",
       "      <td>6750.0</td>\n",
       "      <td>3729.0</td>\n",
       "      <td>2607.0</td>\n",
       "      <td>22111.0</td>\n",
       "      <td>262112.0</td>\n",
       "      <td>44398.0</td>\n",
       "    </tr>\n",
       "    <tr>\n",
       "      <th>e</th>\n",
       "      <td>133569.0</td>\n",
       "      <td>435013.0</td>\n",
       "      <td>313833.0</td>\n",
       "      <td>28655.0</td>\n",
       "      <td>178823.0</td>\n",
       "      <td>129012.0</td>\n",
       "    </tr>\n",
       "  </tbody>\n",
       "</table>\n",
       "</div>"
      ],
      "text/plain": [
       "sex                 F                            M                    \n",
       "year             1910      1960      2010     1910      1960      2010\n",
       "last_letter                                                           \n",
       "a            108376.0  691247.0  670605.0    977.0    5204.0   28438.0\n",
       "b                 NaN     694.0     450.0    411.0    3912.0   38859.0\n",
       "c                 5.0      49.0     946.0    482.0   15476.0   23125.0\n",
       "d              6750.0    3729.0    2607.0  22111.0  262112.0   44398.0\n",
       "e            133569.0  435013.0  313833.0  28655.0  178823.0  129012.0"
      ]
     },
     "execution_count": 32,
     "metadata": {},
     "output_type": "execute_result"
    }
   ],
   "source": [
    "subtable = table.reindex(columns=[1910, 1960, 2010], level=\"year\")\n",
    "subtable.head()"
   ]
  },
  {
   "cell_type": "markdown",
   "id": "fe0d1af2",
   "metadata": {},
   "source": [
    "**Nhận xét:**\n",
    "\n",
    "Chữ “a”: cực phổ biến ở nữ (F), số lượng tăng mạnh từ 108k (1910) → 691k (1960) → 670k (2010). Ở nam (M) gần như không phổ biến.\n",
    "\n",
    "Chữ \"d\" ở nam (M) giảm từ 262k (1960) → 44k (2010), cho thấy thay đổi xu hướng tên nam. Ở nữ ít dùng."
   ]
  },
  {
   "cell_type": "markdown",
   "id": "c89f7319",
   "metadata": {},
   "source": [
    "Tổng số sinh theo chữ cái cuối, giới tính và năm"
   ]
  },
  {
   "cell_type": "code",
   "execution_count": 35,
   "id": "6f1434e8",
   "metadata": {},
   "outputs": [
    {
     "data": {
      "text/plain": [
       "sex  year\n",
       "F    1910     396416.0\n",
       "     1960    2022062.0\n",
       "     2010    1759010.0\n",
       "M    1910     194198.0\n",
       "     1960    2132588.0\n",
       "     2010    1898382.0\n",
       "dtype: float64"
      ]
     },
     "execution_count": 35,
     "metadata": {},
     "output_type": "execute_result"
    }
   ],
   "source": [
    "subtable.sum()"
   ]
  },
  {
   "cell_type": "markdown",
   "id": "43b222ba",
   "metadata": {},
   "source": [
    "**Nhận xét:**\n",
    "\n",
    "Nữ (F): số trẻ tăng mạnh từ 1910 (≈ 0.4 triệu) → 1960 (≈ 2 triệu), sau đó giảm nhẹ 2010 (≈ 1.76 triệu).\n",
    "\n",
    "Nam (M): số trẻ tăng từ 1910 (≈ 0.19 triệu) → 1960 (≈ 2.13 triệu), rồi giảm nhẹ 2010 (≈ 1.9 triệu)."
   ]
  },
  {
   "cell_type": "markdown",
   "id": "eff77565",
   "metadata": {},
   "source": [
    "Chuẩn hóa chữ cái cuối thành tỷ lệ"
   ]
  },
  {
   "cell_type": "code",
   "execution_count": 34,
   "id": "ff82f433",
   "metadata": {},
   "outputs": [
    {
     "data": {
      "text/html": [
       "<div>\n",
       "<style scoped>\n",
       "    .dataframe tbody tr th:only-of-type {\n",
       "        vertical-align: middle;\n",
       "    }\n",
       "\n",
       "    .dataframe tbody tr th {\n",
       "        vertical-align: top;\n",
       "    }\n",
       "\n",
       "    .dataframe thead tr th {\n",
       "        text-align: left;\n",
       "    }\n",
       "\n",
       "    .dataframe thead tr:last-of-type th {\n",
       "        text-align: right;\n",
       "    }\n",
       "</style>\n",
       "<table border=\"1\" class=\"dataframe\">\n",
       "  <thead>\n",
       "    <tr>\n",
       "      <th>sex</th>\n",
       "      <th colspan=\"3\" halign=\"left\">F</th>\n",
       "      <th colspan=\"3\" halign=\"left\">M</th>\n",
       "    </tr>\n",
       "    <tr>\n",
       "      <th>year</th>\n",
       "      <th>1910</th>\n",
       "      <th>1960</th>\n",
       "      <th>2010</th>\n",
       "      <th>1910</th>\n",
       "      <th>1960</th>\n",
       "      <th>2010</th>\n",
       "    </tr>\n",
       "    <tr>\n",
       "      <th>last_letter</th>\n",
       "      <th></th>\n",
       "      <th></th>\n",
       "      <th></th>\n",
       "      <th></th>\n",
       "      <th></th>\n",
       "      <th></th>\n",
       "    </tr>\n",
       "  </thead>\n",
       "  <tbody>\n",
       "    <tr>\n",
       "      <th>a</th>\n",
       "      <td>0.273390</td>\n",
       "      <td>0.341853</td>\n",
       "      <td>0.381240</td>\n",
       "      <td>0.005031</td>\n",
       "      <td>0.002440</td>\n",
       "      <td>0.014980</td>\n",
       "    </tr>\n",
       "    <tr>\n",
       "      <th>b</th>\n",
       "      <td>NaN</td>\n",
       "      <td>0.000343</td>\n",
       "      <td>0.000256</td>\n",
       "      <td>0.002116</td>\n",
       "      <td>0.001834</td>\n",
       "      <td>0.020470</td>\n",
       "    </tr>\n",
       "    <tr>\n",
       "      <th>c</th>\n",
       "      <td>0.000013</td>\n",
       "      <td>0.000024</td>\n",
       "      <td>0.000538</td>\n",
       "      <td>0.002482</td>\n",
       "      <td>0.007257</td>\n",
       "      <td>0.012181</td>\n",
       "    </tr>\n",
       "    <tr>\n",
       "      <th>d</th>\n",
       "      <td>0.017028</td>\n",
       "      <td>0.001844</td>\n",
       "      <td>0.001482</td>\n",
       "      <td>0.113858</td>\n",
       "      <td>0.122908</td>\n",
       "      <td>0.023387</td>\n",
       "    </tr>\n",
       "    <tr>\n",
       "      <th>e</th>\n",
       "      <td>0.336941</td>\n",
       "      <td>0.215133</td>\n",
       "      <td>0.178415</td>\n",
       "      <td>0.147556</td>\n",
       "      <td>0.083853</td>\n",
       "      <td>0.067959</td>\n",
       "    </tr>\n",
       "    <tr>\n",
       "      <th>f</th>\n",
       "      <td>NaN</td>\n",
       "      <td>0.000010</td>\n",
       "      <td>0.000055</td>\n",
       "      <td>0.000783</td>\n",
       "      <td>0.004325</td>\n",
       "      <td>0.001188</td>\n",
       "    </tr>\n",
       "    <tr>\n",
       "      <th>g</th>\n",
       "      <td>0.000144</td>\n",
       "      <td>0.000157</td>\n",
       "      <td>0.000374</td>\n",
       "      <td>0.002250</td>\n",
       "      <td>0.009488</td>\n",
       "      <td>0.001404</td>\n",
       "    </tr>\n",
       "    <tr>\n",
       "      <th>h</th>\n",
       "      <td>0.051529</td>\n",
       "      <td>0.036224</td>\n",
       "      <td>0.075852</td>\n",
       "      <td>0.045562</td>\n",
       "      <td>0.037907</td>\n",
       "      <td>0.051670</td>\n",
       "    </tr>\n",
       "    <tr>\n",
       "      <th>i</th>\n",
       "      <td>0.001526</td>\n",
       "      <td>0.039965</td>\n",
       "      <td>0.031734</td>\n",
       "      <td>0.000844</td>\n",
       "      <td>0.000603</td>\n",
       "      <td>0.022628</td>\n",
       "    </tr>\n",
       "    <tr>\n",
       "      <th>j</th>\n",
       "      <td>NaN</td>\n",
       "      <td>NaN</td>\n",
       "      <td>0.000090</td>\n",
       "      <td>NaN</td>\n",
       "      <td>NaN</td>\n",
       "      <td>0.000769</td>\n",
       "    </tr>\n",
       "    <tr>\n",
       "      <th>k</th>\n",
       "      <td>0.000121</td>\n",
       "      <td>0.000156</td>\n",
       "      <td>0.000356</td>\n",
       "      <td>0.036581</td>\n",
       "      <td>0.049384</td>\n",
       "      <td>0.018541</td>\n",
       "    </tr>\n",
       "    <tr>\n",
       "      <th>l</th>\n",
       "      <td>0.043189</td>\n",
       "      <td>0.033867</td>\n",
       "      <td>0.026356</td>\n",
       "      <td>0.065016</td>\n",
       "      <td>0.104904</td>\n",
       "      <td>0.070367</td>\n",
       "    </tr>\n",
       "    <tr>\n",
       "      <th>m</th>\n",
       "      <td>0.001201</td>\n",
       "      <td>0.008613</td>\n",
       "      <td>0.002588</td>\n",
       "      <td>0.058044</td>\n",
       "      <td>0.033827</td>\n",
       "      <td>0.024657</td>\n",
       "    </tr>\n",
       "    <tr>\n",
       "      <th>n</th>\n",
       "      <td>0.079240</td>\n",
       "      <td>0.130687</td>\n",
       "      <td>0.140210</td>\n",
       "      <td>0.143415</td>\n",
       "      <td>0.152522</td>\n",
       "      <td>0.362771</td>\n",
       "    </tr>\n",
       "    <tr>\n",
       "      <th>o</th>\n",
       "      <td>0.001660</td>\n",
       "      <td>0.002439</td>\n",
       "      <td>0.001243</td>\n",
       "      <td>0.017065</td>\n",
       "      <td>0.012829</td>\n",
       "      <td>0.042681</td>\n",
       "    </tr>\n",
       "    <tr>\n",
       "      <th>p</th>\n",
       "      <td>0.000018</td>\n",
       "      <td>0.000023</td>\n",
       "      <td>0.000020</td>\n",
       "      <td>0.003172</td>\n",
       "      <td>0.005675</td>\n",
       "      <td>0.001269</td>\n",
       "    </tr>\n",
       "    <tr>\n",
       "      <th>q</th>\n",
       "      <td>NaN</td>\n",
       "      <td>NaN</td>\n",
       "      <td>0.000030</td>\n",
       "      <td>NaN</td>\n",
       "      <td>NaN</td>\n",
       "      <td>0.000180</td>\n",
       "    </tr>\n",
       "    <tr>\n",
       "      <th>r</th>\n",
       "      <td>0.013390</td>\n",
       "      <td>0.006764</td>\n",
       "      <td>0.018025</td>\n",
       "      <td>0.064481</td>\n",
       "      <td>0.031034</td>\n",
       "      <td>0.087477</td>\n",
       "    </tr>\n",
       "    <tr>\n",
       "      <th>s</th>\n",
       "      <td>0.039042</td>\n",
       "      <td>0.012764</td>\n",
       "      <td>0.013332</td>\n",
       "      <td>0.130815</td>\n",
       "      <td>0.102730</td>\n",
       "      <td>0.065145</td>\n",
       "    </tr>\n",
       "    <tr>\n",
       "      <th>t</th>\n",
       "      <td>0.027438</td>\n",
       "      <td>0.015201</td>\n",
       "      <td>0.007830</td>\n",
       "      <td>0.072879</td>\n",
       "      <td>0.065655</td>\n",
       "      <td>0.022861</td>\n",
       "    </tr>\n",
       "    <tr>\n",
       "      <th>u</th>\n",
       "      <td>0.000684</td>\n",
       "      <td>0.000574</td>\n",
       "      <td>0.000417</td>\n",
       "      <td>0.000124</td>\n",
       "      <td>0.000057</td>\n",
       "      <td>0.001221</td>\n",
       "    </tr>\n",
       "    <tr>\n",
       "      <th>v</th>\n",
       "      <td>NaN</td>\n",
       "      <td>0.000060</td>\n",
       "      <td>0.000117</td>\n",
       "      <td>0.000113</td>\n",
       "      <td>0.000037</td>\n",
       "      <td>0.001434</td>\n",
       "    </tr>\n",
       "    <tr>\n",
       "      <th>w</th>\n",
       "      <td>0.000020</td>\n",
       "      <td>0.000031</td>\n",
       "      <td>0.001182</td>\n",
       "      <td>0.006329</td>\n",
       "      <td>0.007711</td>\n",
       "      <td>0.016148</td>\n",
       "    </tr>\n",
       "    <tr>\n",
       "      <th>x</th>\n",
       "      <td>0.000015</td>\n",
       "      <td>0.000037</td>\n",
       "      <td>0.000727</td>\n",
       "      <td>0.003965</td>\n",
       "      <td>0.001851</td>\n",
       "      <td>0.008614</td>\n",
       "    </tr>\n",
       "    <tr>\n",
       "      <th>y</th>\n",
       "      <td>0.110972</td>\n",
       "      <td>0.152569</td>\n",
       "      <td>0.116828</td>\n",
       "      <td>0.077349</td>\n",
       "      <td>0.160987</td>\n",
       "      <td>0.058168</td>\n",
       "    </tr>\n",
       "    <tr>\n",
       "      <th>z</th>\n",
       "      <td>0.002439</td>\n",
       "      <td>0.000659</td>\n",
       "      <td>0.000704</td>\n",
       "      <td>0.000170</td>\n",
       "      <td>0.000184</td>\n",
       "      <td>0.001831</td>\n",
       "    </tr>\n",
       "  </tbody>\n",
       "</table>\n",
       "</div>"
      ],
      "text/plain": [
       "sex                 F                             M                    \n",
       "year             1910      1960      2010      1910      1960      2010\n",
       "last_letter                                                            \n",
       "a            0.273390  0.341853  0.381240  0.005031  0.002440  0.014980\n",
       "b                 NaN  0.000343  0.000256  0.002116  0.001834  0.020470\n",
       "c            0.000013  0.000024  0.000538  0.002482  0.007257  0.012181\n",
       "d            0.017028  0.001844  0.001482  0.113858  0.122908  0.023387\n",
       "e            0.336941  0.215133  0.178415  0.147556  0.083853  0.067959\n",
       "f                 NaN  0.000010  0.000055  0.000783  0.004325  0.001188\n",
       "g            0.000144  0.000157  0.000374  0.002250  0.009488  0.001404\n",
       "h            0.051529  0.036224  0.075852  0.045562  0.037907  0.051670\n",
       "i            0.001526  0.039965  0.031734  0.000844  0.000603  0.022628\n",
       "j                 NaN       NaN  0.000090       NaN       NaN  0.000769\n",
       "k            0.000121  0.000156  0.000356  0.036581  0.049384  0.018541\n",
       "l            0.043189  0.033867  0.026356  0.065016  0.104904  0.070367\n",
       "m            0.001201  0.008613  0.002588  0.058044  0.033827  0.024657\n",
       "n            0.079240  0.130687  0.140210  0.143415  0.152522  0.362771\n",
       "o            0.001660  0.002439  0.001243  0.017065  0.012829  0.042681\n",
       "p            0.000018  0.000023  0.000020  0.003172  0.005675  0.001269\n",
       "q                 NaN       NaN  0.000030       NaN       NaN  0.000180\n",
       "r            0.013390  0.006764  0.018025  0.064481  0.031034  0.087477\n",
       "s            0.039042  0.012764  0.013332  0.130815  0.102730  0.065145\n",
       "t            0.027438  0.015201  0.007830  0.072879  0.065655  0.022861\n",
       "u            0.000684  0.000574  0.000417  0.000124  0.000057  0.001221\n",
       "v                 NaN  0.000060  0.000117  0.000113  0.000037  0.001434\n",
       "w            0.000020  0.000031  0.001182  0.006329  0.007711  0.016148\n",
       "x            0.000015  0.000037  0.000727  0.003965  0.001851  0.008614\n",
       "y            0.110972  0.152569  0.116828  0.077349  0.160987  0.058168\n",
       "z            0.002439  0.000659  0.000704  0.000170  0.000184  0.001831"
      ]
     },
     "execution_count": 34,
     "metadata": {},
     "output_type": "execute_result"
    }
   ],
   "source": [
    "letter_prop = subtable / subtable.sum()\n",
    "letter_prop"
   ]
  },
  {
   "cell_type": "markdown",
   "id": "b285151c",
   "metadata": {},
   "source": [
    "**Nhận xét:**\n",
    "\n",
    "Nữ (F): chữ cái cuối “a”, “e”, “y” chiếm tỷ lệ cao nhất, với “a” tăng dần từ 1910 → 2010, phản ánh xu hướng tên nữ phổ biến.\n",
    "\n",
    "Nam (M): chữ cái cuối “d”, “n”, “y” phổ biến nhất, với “n” tăng mạnh năm 2010, cho thấy thay đổi xu hướng tên nam theo thời gian."
   ]
  },
  {
   "cell_type": "markdown",
   "id": "3fe15af3",
   "metadata": {},
   "source": [
    "Biểu đồ cột tỷ lệ chữ cái cuối theo giới tính"
   ]
  },
  {
   "cell_type": "code",
   "execution_count": 37,
   "id": "fe3d0e50",
   "metadata": {},
   "outputs": [
    {
     "data": {
      "image/png": "[encoded data removed]",
      "text/plain": [
       "<Figure size 1000x800 with 2 Axes>"
      ]
     },
     "metadata": {},
     "output_type": "display_data"
    }
   ],
   "source": [
    "fig, axes = plt.subplots(2, 1, figsize=(10, 8))\n",
    "letter_prop[\"M\"].plot(kind=\"bar\", rot=0, ax=axes[0], title=\"Male\")\n",
    "letter_prop[\"F\"].plot(kind=\"bar\", rot=0, ax=axes[1], title=\"Female\",\n",
    "                      legend=False)\n",
    "fig.suptitle(\"Tỷ lệ chữ cái cuối phổ biến theo giới tính và năm\", fontsize=16)                      \n",
    "plt.tight_layout() \n",
    "plt.savefig(\"images/last_letter_trend.pdf\", format='pdf')"
   ]
  },
  {
   "cell_type": "markdown",
   "id": "feffa7d0",
   "metadata": {},
   "source": [
    "**Nhận xét:**\n",
    "\n",
    "***Tên nam (M):***\n",
    "\n",
    "Chữ “n” tăng mạnh từ 14.3% (1910) → 36.3% (2010), trở thành kết thúc phổ biến nhất.\n",
    "\n",
    "Chữ “d” và “s” giảm mạnh (11.3% → 2.3%, 13.0% → 6.5%).\n",
    "\n",
    "Chữ “r” tăng nhẹ (6.4% (1910) → 8.7% (2010)), trong khi “l” và “t” giảm dần (10.4% → 7.0%, 6.5% → 2.3%).\n",
    "\n",
    "Một số chữ hiếm như “o”, “y”, “w” tăng nhẹ trong giai đoạn 1960–2010.\n",
    "\n",
    "***Tên nữ (F):***\n",
    "\n",
    "Chữ “a” tăng mạnh từ 27.3% (1910) → 38.1% (2010), trở thành kết thúc phổ biến nhất.\n",
    "\n",
    "Chữ “e” giảm từ 33.7% (1910) → 17.8% (2010), trong khi “n” tăng từ 7.9% (1910) → 14.0% (2010).\n",
    "\n",
    "Chữ “y” tăng lên 15.2% (1960) rồi giảm còn 11.6% (2010).\n",
    "\n",
    "Các chữ “t”, “s”, “l” đều giảm dần qua ba mốc 1910 → 1960 → 2010."
   ]
  },
  {
   "cell_type": "markdown",
   "id": "75088565",
   "metadata": {},
   "source": [
    "Bảng tỷ lệ các chữ cái cuối của tên nam theo từng năm, tập trung vào ba chữ cái phổ biến nhất: “d”, “n”, và “y”."
   ]
  },
  {
   "cell_type": "code",
   "execution_count": 39,
   "id": "5b4ddb20",
   "metadata": {},
   "outputs": [
    {
     "data": {
      "text/html": [
       "<div>\n",
       "<style scoped>\n",
       "    .dataframe tbody tr th:only-of-type {\n",
       "        vertical-align: middle;\n",
       "    }\n",
       "\n",
       "    .dataframe tbody tr th {\n",
       "        vertical-align: top;\n",
       "    }\n",
       "\n",
       "    .dataframe thead th {\n",
       "        text-align: right;\n",
       "    }\n",
       "</style>\n",
       "<table border=\"1\" class=\"dataframe\">\n",
       "  <thead>\n",
       "    <tr style=\"text-align: right;\">\n",
       "      <th>last_letter</th>\n",
       "      <th>d</th>\n",
       "      <th>n</th>\n",
       "      <th>y</th>\n",
       "    </tr>\n",
       "    <tr>\n",
       "      <th>year</th>\n",
       "      <th></th>\n",
       "      <th></th>\n",
       "      <th></th>\n",
       "    </tr>\n",
       "  </thead>\n",
       "  <tbody>\n",
       "    <tr>\n",
       "      <th>1880</th>\n",
       "      <td>0.083055</td>\n",
       "      <td>0.153213</td>\n",
       "      <td>0.075760</td>\n",
       "    </tr>\n",
       "    <tr>\n",
       "      <th>1881</th>\n",
       "      <td>0.083247</td>\n",
       "      <td>0.153214</td>\n",
       "      <td>0.077451</td>\n",
       "    </tr>\n",
       "    <tr>\n",
       "      <th>1882</th>\n",
       "      <td>0.085340</td>\n",
       "      <td>0.149560</td>\n",
       "      <td>0.077537</td>\n",
       "    </tr>\n",
       "    <tr>\n",
       "      <th>1883</th>\n",
       "      <td>0.084066</td>\n",
       "      <td>0.151646</td>\n",
       "      <td>0.079144</td>\n",
       "    </tr>\n",
       "    <tr>\n",
       "      <th>1884</th>\n",
       "      <td>0.086120</td>\n",
       "      <td>0.149915</td>\n",
       "      <td>0.080405</td>\n",
       "    </tr>\n",
       "  </tbody>\n",
       "</table>\n",
       "</div>"
      ],
      "text/plain": [
       "last_letter         d         n         y\n",
       "year                                     \n",
       "1880         0.083055  0.153213  0.075760\n",
       "1881         0.083247  0.153214  0.077451\n",
       "1882         0.085340  0.149560  0.077537\n",
       "1883         0.084066  0.151646  0.079144\n",
       "1884         0.086120  0.149915  0.080405"
      ]
     },
     "execution_count": 39,
     "metadata": {},
     "output_type": "execute_result"
    }
   ],
   "source": [
    "letter_prop = table / table.sum()\n",
    "\n",
    "dny_ts = letter_prop.loc[[\"d\", \"n\", \"y\"], \"M\"].T\n",
    "dny_ts.head()"
   ]
  },
  {
   "cell_type": "markdown",
   "id": "76a07454",
   "metadata": {},
   "source": [
    "**Nhận xét:**\n",
    "\n",
    "Trong giai đoạn 1880 – 1884, tỷ lệ các tên nam kết thúc bằng chữ “n” luôn cao nhất (khoảng 15%), thể hiện đây là dạng kết thúc phổ biến nhất.\n",
    "\n",
    "Chữ “d” duy trì quanh mức 8 – 8.6%, ổn định nhẹ qua các năm.\n",
    "\n",
    "Chữ “y” có xu hướng tăng nhẹ từ 7.6% → 8.0%, cho thấy ngày càng được ưa chuộng hơn trong cách đặt tên nam."
   ]
  },
  {
   "cell_type": "code",
   "execution_count": 46,
   "id": "d035502f",
   "metadata": {},
   "outputs": [
    {
     "data": {
      "image/png": "[encoded data removed]",
      "text/plain": [
       "<Figure size 640x480 with 1 Axes>"
      ]
     },
     "metadata": {},
     "output_type": "display_data"
    }
   ],
   "source": [
    "dny_ts.plot(title=\"Xu hướng chữ cái cuối trong tên nam qua các năm\")\n",
    "plt.tight_layout() \n",
    "plt.savefig(\"images/xuhuongtennam.pdf\", format=\"pdf\")"
   ]
  },
  {
   "cell_type": "markdown",
   "id": "ca6381ea",
   "metadata": {},
   "source": [
    "**Nhận xét:**\n",
    "\n",
    "Tên nam kết thúc bằng “n” tăng mạnh và trở thành xu hướng phổ biến nhất, từ khoảng 15% năm 1880 lên hơn 35% sau năm 2000.\n",
    "\n",
    "Tên kết thúc bằng “d” phổ biến trong giai đoạn 1910–1950 (đạt đỉnh gần 20%) nhưng sau đó giảm mạnh.\n",
    "\n",
    "Tên kết thúc bằng “y” tăng nhẹ đến giữa thế kỷ 20 rồi giảm dần sau năm 1960.\n",
    "→ Xu hướng chung: các tên nam hiện đại có xu hướng ưu tiên kết thúc bằng “n”, trong khi “d” và “y” xuất hiện ít thường xuyên hơn."
   ]
  },
  {
   "cell_type": "markdown",
   "id": "1e250027",
   "metadata": {},
   "source": [
    "### Boy names that became girl names (and vice versa)\n",
    "*Phân tích các tên từng phổ biến ở giới nam nhưng sau đó trở nên phổ biến ở giới nữ (và ngược lại)*"
   ]
  },
  {
   "cell_type": "markdown",
   "id": "a4a237cc",
   "metadata": {},
   "source": [
    "Lọc các tên có chứa chuỗi \"Lesl\" trong danh sách các tên phổ biến (từ top 1000)."
   ]
  },
  {
   "cell_type": "code",
   "execution_count": 47,
   "id": "5076d939",
   "metadata": {},
   "outputs": [
    {
     "data": {
      "text/plain": [
       "632     Leslie\n",
       "2294    Lesley\n",
       "4262    Leslee\n",
       "4728     Lesli\n",
       "6103     Lesly\n",
       "dtype: object"
      ]
     },
     "execution_count": 47,
     "metadata": {},
     "output_type": "execute_result"
    }
   ],
   "source": [
    "all_names = pd.Series(top1000[\"name\"].unique())\n",
    "lesley_like = all_names[all_names.str.contains(\"Lesl\")]\n",
    "lesley_like"
   ]
  },
  {
   "cell_type": "markdown",
   "id": "db9e6a77",
   "metadata": {},
   "source": [
    "**Nhận xét:**\n",
    "\n",
    "Nhằm xác định các biến thể của tên “Lesl” để phân tích xu hướng giới tính ở bước tiếp theo."
   ]
  },
  {
   "cell_type": "markdown",
   "id": "71d96207",
   "metadata": {},
   "source": [
    " Chọn các tên liên quan tới chuỗi \"Lesl\"  và tính tổng số trẻ sinh theo từng tên"
   ]
  },
  {
   "cell_type": "code",
   "execution_count": 49,
   "id": "0fbe1359",
   "metadata": {},
   "outputs": [
    {
     "data": {
      "text/plain": [
       "name\n",
       "Leslee      1082\n",
       "Lesley     35022\n",
       "Lesli        929\n",
       "Leslie    370429\n",
       "Lesly      10067\n",
       "Name: births, dtype: int64"
      ]
     },
     "execution_count": 49,
     "metadata": {},
     "output_type": "execute_result"
    }
   ],
   "source": [
    "filtered = top1000[top1000[\"name\"].isin(lesley_like)]\n",
    "filtered.groupby(\"name\")[\"births\"].sum()"
   ]
  },
  {
   "cell_type": "markdown",
   "id": "b226bc88",
   "metadata": {},
   "source": [
    "**Nhận xét:**\n",
    "\n",
    "Tên “Leslie” chiếm đa số tuyệt đối với hơn 370 nghìn lượt đặt, cho thấy đây là biến thể phổ biến nhất trong nhóm.\n",
    "\n",
    "Các biến thể khác như “Lesley” và “Lesly” có tần suất thấp hơn nhiều, còn “Leslee” và “Lesli” rất hiếm gặp."
   ]
  },
  {
   "cell_type": "markdown",
   "id": "d6e60da8",
   "metadata": {},
   "source": [
    "Bảng tỷ lệ phần trăm trẻ sinh theo giới tính (F/M) cho các biến thể tên có chứa chuỗi \"Lesl\""
   ]
  },
  {
   "cell_type": "code",
   "execution_count": 50,
   "id": "207f7278",
   "metadata": {},
   "outputs": [
    {
     "data": {
      "text/html": [
       "<div>\n",
       "<style scoped>\n",
       "    .dataframe tbody tr th:only-of-type {\n",
       "        vertical-align: middle;\n",
       "    }\n",
       "\n",
       "    .dataframe tbody tr th {\n",
       "        vertical-align: top;\n",
       "    }\n",
       "\n",
       "    .dataframe thead th {\n",
       "        text-align: right;\n",
       "    }\n",
       "</style>\n",
       "<table border=\"1\" class=\"dataframe\">\n",
       "  <thead>\n",
       "    <tr style=\"text-align: right;\">\n",
       "      <th>sex</th>\n",
       "      <th>F</th>\n",
       "      <th>M</th>\n",
       "    </tr>\n",
       "    <tr>\n",
       "      <th>year</th>\n",
       "      <th></th>\n",
       "      <th></th>\n",
       "    </tr>\n",
       "  </thead>\n",
       "  <tbody>\n",
       "    <tr>\n",
       "      <th>2006</th>\n",
       "      <td>1.0</td>\n",
       "      <td>NaN</td>\n",
       "    </tr>\n",
       "    <tr>\n",
       "      <th>2007</th>\n",
       "      <td>1.0</td>\n",
       "      <td>NaN</td>\n",
       "    </tr>\n",
       "    <tr>\n",
       "      <th>2008</th>\n",
       "      <td>1.0</td>\n",
       "      <td>NaN</td>\n",
       "    </tr>\n",
       "    <tr>\n",
       "      <th>2009</th>\n",
       "      <td>1.0</td>\n",
       "      <td>NaN</td>\n",
       "    </tr>\n",
       "    <tr>\n",
       "      <th>2010</th>\n",
       "      <td>1.0</td>\n",
       "      <td>NaN</td>\n",
       "    </tr>\n",
       "  </tbody>\n",
       "</table>\n",
       "</div>"
      ],
      "text/plain": [
       "sex     F   M\n",
       "year         \n",
       "2006  1.0 NaN\n",
       "2007  1.0 NaN\n",
       "2008  1.0 NaN\n",
       "2009  1.0 NaN\n",
       "2010  1.0 NaN"
      ]
     },
     "execution_count": 50,
     "metadata": {},
     "output_type": "execute_result"
    }
   ],
   "source": [
    "table = filtered.pivot_table(\"births\", index=\"year\",\n",
    "                             columns=\"sex\", aggfunc=\"sum\")\n",
    "table = table.div(table.sum(axis=\"columns\"), axis=\"index\")\n",
    "table.tail()"
   ]
  },
  {
   "cell_type": "markdown",
   "id": "397192ba",
   "metadata": {},
   "source": [
    "**Nhận xét:**\n",
    "\n",
    "Trong các năm 2006 – 2010, tất cả trẻ mang tên trong danh sách đều là nữ. Các tên này gần đây chỉ dùng cho nữ, không còn xuất hiện ở nam.\n",
    "\n",
    "Cột nam (M) = NaN vì không có trẻ nam nào mang các tên này trong các năm đó."
   ]
  },
  {
   "cell_type": "markdown",
   "id": "a2aa9011",
   "metadata": {},
   "source": [
    " Biểu đồ tỷ lệ trẻ sinh theo giới tính"
   ]
  },
  {
   "cell_type": "code",
   "execution_count": 53,
   "id": "c8672df6",
   "metadata": {},
   "outputs": [
    {
     "data": {
      "text/plain": [
       "<Figure size 640x480 with 0 Axes>"
      ]
     },
     "metadata": {},
     "output_type": "display_data"
    },
    {
     "data": {
      "image/png": "[encoded data removed]",
      "text/plain": [
       "<Figure size 640x480 with 1 Axes>"
      ]
     },
     "metadata": {},
     "output_type": "display_data"
    }
   ],
   "source": [
    "fig = plt.figure()\n",
    "table.plot(style={\"M\": \"b-\", \"F\": \"r--\"})\n",
    "plt.tight_layout() \n",
    "plt.savefig(\"images/tenleslie.pdf\", format=\"pdf\")"
   ]
  },
  {
   "cell_type": "markdown",
   "id": "5ff2998d",
   "metadata": {},
   "source": [
    "**Nhận xét:**\n",
    "\n",
    "Giai đoạn 1880–1940: Hầu hết người mang tên “Lesl” là nam giới. Tỷ lệ nam chiếm gần 100%. Tên này lúc đầu được xem là tên nam truyền thống.\n",
    "\n",
    "Khoảng 1940–1950: Điểm giao nhau giữa hai đường (M và F) xuất hiện — tức là “Lesl” bắt đầu được đặt cho cả hai giới gần như ngang nhau.\n",
    "\n",
    "Sau 1950: Tên “Lesl” nhanh chóng chuyển dịch sang phổ biến ở nữ. Tỷ lệ nữ chiếm gần như 100% sau năm 2000, trong khi tỷ lệ nam giảm xuống gần 0."
   ]
  },
  {
   "cell_type": "markdown",
   "id": "a5af7c0e",
   "metadata": {},
   "source": [
    "**Kết luận:**\n",
    "\n",
    "“Lesl” là ví dụ điển hình của một tên chuyển giới tính theo thời gian — từ nam sang nữ.\n",
    "\n",
    "Biểu đồ minh họa rõ sự “đảo chiều giới tính” của cái tên này: Từ ~1.0 (nam chiếm gần hết) → ~0.0 (nữ chiếm gần hết)."
   ]
  },
  {
   "cell_type": "markdown",
   "id": "1ec93444",
   "metadata": {},
   "source": [
    "# 13.4 USDA Food Database"
   ]
  },
  {
   "cell_type": "markdown",
   "id": "d6337173",
   "metadata": {},
   "source": [
    "Nạp dữ liệu và kiểm tra độ dài file"
   ]
  },
  {
   "cell_type": "code",
   "execution_count": 1,
   "id": "0e92f559",
   "metadata": {},
   "outputs": [
    {
     "data": {
      "text/plain": [
       "6636"
      ]
     },
     "execution_count": 1,
     "metadata": {},
     "output_type": "execute_result"
    }
   ],
   "source": [
    "import json\n",
    "db = json.load(open(\"datasets/usda_food/database.json\"))\n",
    "len(db)"
   ]
  },
  {
   "cell_type": "markdown",
   "id": "d43b6ce5",
   "metadata": {},
   "source": [
    "**Nhận xét:**\n",
    "\n",
    "Dữ liệu tà từ file JSON chứa thông tin thực phẩm của USDA, với tổng cộng 6,636 dòng (mỗi dòng tương ứng với một mục thực phẩm).\n"
   ]
  },
  {
   "cell_type": "markdown",
   "id": "fa27be83",
   "metadata": {},
   "source": [
    "Kiểm tra các trường dữ liệu trong bản ghi đầu tiên của cơ sở dữ liệu USDA"
   ]
  },
  {
   "cell_type": "code",
   "execution_count": 2,
   "id": "49693b0e",
   "metadata": {},
   "outputs": [
    {
     "data": {
      "text/plain": [
       "dict_keys(['id', 'description', 'tags', 'manufacturer', 'group', 'portions', 'nutrients'])"
      ]
     },
     "execution_count": 2,
     "metadata": {},
     "output_type": "execute_result"
    }
   ],
   "source": [
    "db[0].keys()"
   ]
  },
  {
   "cell_type": "markdown",
   "id": "99ab5314",
   "metadata": {},
   "source": [
    "**Nhận xét:**\n",
    "\n",
    "id: Mã định danh duy nhất của thực phẩm trong cơ sở dữ liệu.\n",
    "\n",
    "description: Tên hoặc mô tả của thực phẩm.\n",
    "\n",
    "tags: Các thẻ mô tả thêm.\n",
    "\n",
    "manufacturer: Tên nhà sản xuất hoặc thương hiệu.\n",
    "\n",
    "group: Nhóm thực phẩm.\n",
    "\n",
    "portions: Thông tin về khẩu phần.\n",
    "\n",
    "nutrients: Danh sách các chất dinh dưỡng."
   ]
  },
  {
   "cell_type": "markdown",
   "id": "c4656822",
   "metadata": {},
   "source": [
    "Truy cập thông tin chất dinh dưỡng đầu tiên của thực phẩm đầu tiên trong cơ sở dữ liệu USDA"
   ]
  },
  {
   "cell_type": "code",
   "execution_count": 3,
   "id": "31faed04",
   "metadata": {},
   "outputs": [
    {
     "data": {
      "text/plain": [
       "{'value': 25.18,\n",
       " 'units': 'g',\n",
       " 'description': 'Protein',\n",
       " 'group': 'Composition'}"
      ]
     },
     "execution_count": 3,
     "metadata": {},
     "output_type": "execute_result"
    }
   ],
   "source": [
    "db[0][\"nutrients\"][0]"
   ]
  },
  {
   "cell_type": "markdown",
   "id": "de7f7d98",
   "metadata": {},
   "source": [
    "Chuyển danh sách các chất dinh dưỡng của thực phẩm đầu tiên thành bảng dữ liệu"
   ]
  },
  {
   "cell_type": "code",
   "execution_count": 7,
   "id": "f77b9b51",
   "metadata": {},
   "outputs": [
    {
     "data": {
      "text/html": [
       "<div>\n",
       "<style scoped>\n",
       "    .dataframe tbody tr th:only-of-type {\n",
       "        vertical-align: middle;\n",
       "    }\n",
       "\n",
       "    .dataframe tbody tr th {\n",
       "        vertical-align: top;\n",
       "    }\n",
       "\n",
       "    .dataframe thead th {\n",
       "        text-align: right;\n",
       "    }\n",
       "</style>\n",
       "<table border=\"1\" class=\"dataframe\">\n",
       "  <thead>\n",
       "    <tr style=\"text-align: right;\">\n",
       "      <th></th>\n",
       "      <th>value</th>\n",
       "      <th>units</th>\n",
       "      <th>description</th>\n",
       "      <th>group</th>\n",
       "    </tr>\n",
       "  </thead>\n",
       "  <tbody>\n",
       "    <tr>\n",
       "      <th>0</th>\n",
       "      <td>25.18</td>\n",
       "      <td>g</td>\n",
       "      <td>Protein</td>\n",
       "      <td>Composition</td>\n",
       "    </tr>\n",
       "    <tr>\n",
       "      <th>1</th>\n",
       "      <td>29.20</td>\n",
       "      <td>g</td>\n",
       "      <td>Total lipid (fat)</td>\n",
       "      <td>Composition</td>\n",
       "    </tr>\n",
       "    <tr>\n",
       "      <th>2</th>\n",
       "      <td>3.06</td>\n",
       "      <td>g</td>\n",
       "      <td>Carbohydrate, by difference</td>\n",
       "      <td>Composition</td>\n",
       "    </tr>\n",
       "    <tr>\n",
       "      <th>3</th>\n",
       "      <td>3.28</td>\n",
       "      <td>g</td>\n",
       "      <td>Ash</td>\n",
       "      <td>Other</td>\n",
       "    </tr>\n",
       "    <tr>\n",
       "      <th>4</th>\n",
       "      <td>376.00</td>\n",
       "      <td>kcal</td>\n",
       "      <td>Energy</td>\n",
       "      <td>Energy</td>\n",
       "    </tr>\n",
       "    <tr>\n",
       "      <th>5</th>\n",
       "      <td>39.28</td>\n",
       "      <td>g</td>\n",
       "      <td>Water</td>\n",
       "      <td>Composition</td>\n",
       "    </tr>\n",
       "    <tr>\n",
       "      <th>6</th>\n",
       "      <td>1573.00</td>\n",
       "      <td>kJ</td>\n",
       "      <td>Energy</td>\n",
       "      <td>Energy</td>\n",
       "    </tr>\n",
       "  </tbody>\n",
       "</table>\n",
       "</div>"
      ],
      "text/plain": [
       "     value units                  description        group\n",
       "0    25.18     g                      Protein  Composition\n",
       "1    29.20     g            Total lipid (fat)  Composition\n",
       "2     3.06     g  Carbohydrate, by difference  Composition\n",
       "3     3.28     g                          Ash        Other\n",
       "4   376.00  kcal                       Energy       Energy\n",
       "5    39.28     g                        Water  Composition\n",
       "6  1573.00    kJ                       Energy       Energy"
      ]
     },
     "execution_count": 7,
     "metadata": {},
     "output_type": "execute_result"
    }
   ],
   "source": [
    "nutrients = pd.DataFrame(db[0][\"nutrients\"])\n",
    "nutrients.head(7)"
   ]
  },
  {
   "cell_type": "markdown",
   "id": "8dc2eed5",
   "metadata": {},
   "source": [
    "Tạo bảng tóm tắt thông tin chung của các thực phẩm trong cơ sở dữ liệu USDA."
   ]
  },
  {
   "cell_type": "code",
   "execution_count": 8,
   "id": "1ce0b030",
   "metadata": {},
   "outputs": [
    {
     "data": {
      "text/html": [
       "<div>\n",
       "<style scoped>\n",
       "    .dataframe tbody tr th:only-of-type {\n",
       "        vertical-align: middle;\n",
       "    }\n",
       "\n",
       "    .dataframe tbody tr th {\n",
       "        vertical-align: top;\n",
       "    }\n",
       "\n",
       "    .dataframe thead th {\n",
       "        text-align: right;\n",
       "    }\n",
       "</style>\n",
       "<table border=\"1\" class=\"dataframe\">\n",
       "  <thead>\n",
       "    <tr style=\"text-align: right;\">\n",
       "      <th></th>\n",
       "      <th>description</th>\n",
       "      <th>group</th>\n",
       "      <th>id</th>\n",
       "      <th>manufacturer</th>\n",
       "    </tr>\n",
       "  </thead>\n",
       "  <tbody>\n",
       "    <tr>\n",
       "      <th>0</th>\n",
       "      <td>Cheese, caraway</td>\n",
       "      <td>Dairy and Egg Products</td>\n",
       "      <td>1008</td>\n",
       "      <td></td>\n",
       "    </tr>\n",
       "    <tr>\n",
       "      <th>1</th>\n",
       "      <td>Cheese, cheddar</td>\n",
       "      <td>Dairy and Egg Products</td>\n",
       "      <td>1009</td>\n",
       "      <td></td>\n",
       "    </tr>\n",
       "    <tr>\n",
       "      <th>2</th>\n",
       "      <td>Cheese, edam</td>\n",
       "      <td>Dairy and Egg Products</td>\n",
       "      <td>1018</td>\n",
       "      <td></td>\n",
       "    </tr>\n",
       "    <tr>\n",
       "      <th>3</th>\n",
       "      <td>Cheese, feta</td>\n",
       "      <td>Dairy and Egg Products</td>\n",
       "      <td>1019</td>\n",
       "      <td></td>\n",
       "    </tr>\n",
       "    <tr>\n",
       "      <th>4</th>\n",
       "      <td>Cheese, mozzarella, part skim milk</td>\n",
       "      <td>Dairy and Egg Products</td>\n",
       "      <td>1028</td>\n",
       "      <td></td>\n",
       "    </tr>\n",
       "  </tbody>\n",
       "</table>\n",
       "</div>"
      ],
      "text/plain": [
       "                          description                   group    id  \\\n",
       "0                     Cheese, caraway  Dairy and Egg Products  1008   \n",
       "1                     Cheese, cheddar  Dairy and Egg Products  1009   \n",
       "2                        Cheese, edam  Dairy and Egg Products  1018   \n",
       "3                        Cheese, feta  Dairy and Egg Products  1019   \n",
       "4  Cheese, mozzarella, part skim milk  Dairy and Egg Products  1028   \n",
       "\n",
       "  manufacturer  \n",
       "0               \n",
       "1               \n",
       "2               \n",
       "3               \n",
       "4               "
      ]
     },
     "execution_count": 8,
     "metadata": {},
     "output_type": "execute_result"
    }
   ],
   "source": [
    "info_keys = [\"description\", \"group\", \"id\", \"manufacturer\"]\n",
    "info = pd.DataFrame(db, columns=info_keys)\n",
    "info.head()"
   ]
  },
  {
   "cell_type": "markdown",
   "id": "3f3446dc",
   "metadata": {},
   "source": [
    "Kiểm tra thông tin tổng quát về cấu trúc và kiểu dữ liệu của bảng"
   ]
  },
  {
   "cell_type": "code",
   "execution_count": 9,
   "id": "eb2c1d29",
   "metadata": {},
   "outputs": [
    {
     "name": "stdout",
     "output_type": "stream",
     "text": [
      "<class 'pandas.core.frame.DataFrame'>\n",
      "RangeIndex: 6636 entries, 0 to 6635\n",
      "Data columns (total 4 columns):\n",
      " #   Column        Non-Null Count  Dtype \n",
      "---  ------        --------------  ----- \n",
      " 0   description   6636 non-null   object\n",
      " 1   group         6636 non-null   object\n",
      " 2   id            6636 non-null   int64 \n",
      " 3   manufacturer  5195 non-null   object\n",
      "dtypes: int64(1), object(3)\n",
      "memory usage: 207.5+ KB\n"
     ]
    }
   ],
   "source": [
    "info.info()"
   ]
  },
  {
   "cell_type": "markdown",
   "id": "20717908",
   "metadata": {},
   "source": [
    "Thống kê 10 nhóm thực phẩm phổ biến nhất trong cơ sở dữ liệu USDA."
   ]
  },
  {
   "cell_type": "code",
   "execution_count": 10,
   "id": "ca058a8c",
   "metadata": {},
   "outputs": [
    {
     "name": "stderr",
     "output_type": "stream",
     "text": [
      "C:\\Users\\Admin\\AppData\\Local\\Temp\\ipykernel_15768\\3634668934.py:1: FutureWarning: pandas.value_counts is deprecated and will be removed in a future version. Use pd.Series(obj).value_counts() instead.\n",
      "  pd.value_counts(info[\"group\"])[:10]\n"
     ]
    },
    {
     "data": {
      "text/plain": [
       "group\n",
       "Vegetables and Vegetable Products    812\n",
       "Beef Products                        618\n",
       "Baked Products                       496\n",
       "Breakfast Cereals                    403\n",
       "Legumes and Legume Products          365\n",
       "Fast Foods                           365\n",
       "Lamb, Veal, and Game Products        345\n",
       "Sweets                               341\n",
       "Fruits and Fruit Juices              328\n",
       "Pork Products                        328\n",
       "Name: count, dtype: int64"
      ]
     },
     "execution_count": 10,
     "metadata": {},
     "output_type": "execute_result"
    }
   ],
   "source": [
    "pd.value_counts(info[\"group\"])[:10]"
   ]
  },
  {
   "cell_type": "markdown",
   "id": "ca7f9aeb",
   "metadata": {},
   "source": [
    "**Nhận xét:**\n",
    "\n",
    "Nhóm “Vegetables and Vegetable Products” (Rau củ và các sản phẩm từ rau củ)\n",
    "→ Có 812 mục, là nhóm đa dạng nhất, chứng tỏ dữ liệu USDA chú trọng mạnh đến nguồn thực phẩm thực vật, phản ánh tầm quan trọng của rau củ trong dinh dưỡng.\n",
    "\n",
    "Nhóm “Beef Products” (Sản phẩm từ thịt bò) đứng thứ 2 với 618 mục,\n",
    "→ Thể hiện sự phong phú trong các loại thịt bò và cách chế biến khác nhau (tươi, đông lạnh, chế biến sẵn, v.v.).\n",
    "\n",
    "Các nhóm “Baked Products” và “Breakfast Cereals”\n",
    "→ Xuất hiện khá nhiều (400–500 mục), cho thấy cơ sở dữ liệu cũng tập trung vào nguồn thực phẩm chế biến phổ biến trong khẩu phần ăn hiện đại.\n",
    "\n",
    "Nhóm “Legumes and Legume Products” và “Fast Foods”\n",
    "→ Có số lượng tương đương (365), phản ánh cả thực phẩm lành mạnh lẫn đồ ăn nhanh đều được ghi nhận đầy đủ trong cơ sở dữ liệu.\n",
    "\n",
    "Nhóm “Sweets”, “Fruits and Fruit Juices”, “Pork Products”\n",
    "→ Chiếm tỷ lệ nhỏ hơn, nhưng vẫn thể hiện sự đa dạng nguồn thực phẩm từ nhiều nhóm dinh dưỡng khác nhau."
   ]
  },
  {
   "cell_type": "markdown",
   "id": "8307c879",
   "metadata": {},
   "source": [
    "Tổng hợp toàn bộ dữ liệu chất dinh dưỡng của tất cả thực phẩm trong cơ sở dữ liệu USDA thành một bảng duy nhất."
   ]
  },
  {
   "cell_type": "code",
   "execution_count": 11,
   "id": "c8fb58c1",
   "metadata": {},
   "outputs": [
    {
     "data": {
      "text/html": [
       "<div>\n",
       "<style scoped>\n",
       "    .dataframe tbody tr th:only-of-type {\n",
       "        vertical-align: middle;\n",
       "    }\n",
       "\n",
       "    .dataframe tbody tr th {\n",
       "        vertical-align: top;\n",
       "    }\n",
       "\n",
       "    .dataframe thead th {\n",
       "        text-align: right;\n",
       "    }\n",
       "</style>\n",
       "<table border=\"1\" class=\"dataframe\">\n",
       "  <thead>\n",
       "    <tr style=\"text-align: right;\">\n",
       "      <th></th>\n",
       "      <th>value</th>\n",
       "      <th>units</th>\n",
       "      <th>description</th>\n",
       "      <th>group</th>\n",
       "      <th>id</th>\n",
       "    </tr>\n",
       "  </thead>\n",
       "  <tbody>\n",
       "    <tr>\n",
       "      <th>0</th>\n",
       "      <td>25.180</td>\n",
       "      <td>g</td>\n",
       "      <td>Protein</td>\n",
       "      <td>Composition</td>\n",
       "      <td>1008</td>\n",
       "    </tr>\n",
       "    <tr>\n",
       "      <th>1</th>\n",
       "      <td>29.200</td>\n",
       "      <td>g</td>\n",
       "      <td>Total lipid (fat)</td>\n",
       "      <td>Composition</td>\n",
       "      <td>1008</td>\n",
       "    </tr>\n",
       "    <tr>\n",
       "      <th>2</th>\n",
       "      <td>3.060</td>\n",
       "      <td>g</td>\n",
       "      <td>Carbohydrate, by difference</td>\n",
       "      <td>Composition</td>\n",
       "      <td>1008</td>\n",
       "    </tr>\n",
       "    <tr>\n",
       "      <th>3</th>\n",
       "      <td>3.280</td>\n",
       "      <td>g</td>\n",
       "      <td>Ash</td>\n",
       "      <td>Other</td>\n",
       "      <td>1008</td>\n",
       "    </tr>\n",
       "    <tr>\n",
       "      <th>4</th>\n",
       "      <td>376.000</td>\n",
       "      <td>kcal</td>\n",
       "      <td>Energy</td>\n",
       "      <td>Energy</td>\n",
       "      <td>1008</td>\n",
       "    </tr>\n",
       "    <tr>\n",
       "      <th>...</th>\n",
       "      <td>...</td>\n",
       "      <td>...</td>\n",
       "      <td>...</td>\n",
       "      <td>...</td>\n",
       "      <td>...</td>\n",
       "    </tr>\n",
       "    <tr>\n",
       "      <th>389350</th>\n",
       "      <td>0.000</td>\n",
       "      <td>mcg</td>\n",
       "      <td>Vitamin B-12, added</td>\n",
       "      <td>Vitamins</td>\n",
       "      <td>43546</td>\n",
       "    </tr>\n",
       "    <tr>\n",
       "      <th>389351</th>\n",
       "      <td>0.000</td>\n",
       "      <td>mg</td>\n",
       "      <td>Cholesterol</td>\n",
       "      <td>Other</td>\n",
       "      <td>43546</td>\n",
       "    </tr>\n",
       "    <tr>\n",
       "      <th>389352</th>\n",
       "      <td>0.072</td>\n",
       "      <td>g</td>\n",
       "      <td>Fatty acids, total saturated</td>\n",
       "      <td>Other</td>\n",
       "      <td>43546</td>\n",
       "    </tr>\n",
       "    <tr>\n",
       "      <th>389353</th>\n",
       "      <td>0.028</td>\n",
       "      <td>g</td>\n",
       "      <td>Fatty acids, total monounsaturated</td>\n",
       "      <td>Other</td>\n",
       "      <td>43546</td>\n",
       "    </tr>\n",
       "    <tr>\n",
       "      <th>389354</th>\n",
       "      <td>0.041</td>\n",
       "      <td>g</td>\n",
       "      <td>Fatty acids, total polyunsaturated</td>\n",
       "      <td>Other</td>\n",
       "      <td>43546</td>\n",
       "    </tr>\n",
       "  </tbody>\n",
       "</table>\n",
       "<p>389355 rows × 5 columns</p>\n",
       "</div>"
      ],
      "text/plain": [
       "          value units                         description        group     id\n",
       "0        25.180     g                             Protein  Composition   1008\n",
       "1        29.200     g                   Total lipid (fat)  Composition   1008\n",
       "2         3.060     g         Carbohydrate, by difference  Composition   1008\n",
       "3         3.280     g                                 Ash        Other   1008\n",
       "4       376.000  kcal                              Energy       Energy   1008\n",
       "...         ...   ...                                 ...          ...    ...\n",
       "389350    0.000   mcg                 Vitamin B-12, added     Vitamins  43546\n",
       "389351    0.000    mg                         Cholesterol        Other  43546\n",
       "389352    0.072     g        Fatty acids, total saturated        Other  43546\n",
       "389353    0.028     g  Fatty acids, total monounsaturated        Other  43546\n",
       "389354    0.041     g  Fatty acids, total polyunsaturated        Other  43546\n",
       "\n",
       "[389355 rows x 5 columns]"
      ]
     },
     "metadata": {},
     "output_type": "display_data"
    }
   ],
   "source": [
    "nutrients = []\n",
    "\n",
    "for rec in db:\n",
    "    fnuts = pd.DataFrame(rec[\"nutrients\"])\n",
    "    fnuts[\"id\"] = rec[\"id\"]\n",
    "    nutrients.append(fnuts)\n",
    "\n",
    "nutrients = pd.concat(nutrients, ignore_index=True)\n",
    "display(nutrients)"
   ]
  },
  {
   "cell_type": "markdown",
   "id": "1caf248d",
   "metadata": {},
   "source": [
    "Kiểm tra số lượng bản ghi bị trùng lặp trong bảng"
   ]
  },
  {
   "cell_type": "code",
   "execution_count": 12,
   "id": "dba4b41c",
   "metadata": {},
   "outputs": [
    {
     "data": {
      "text/plain": [
       "14179"
      ]
     },
     "execution_count": 12,
     "metadata": {},
     "output_type": "execute_result"
    }
   ],
   "source": [
    "nutrients.duplicated().sum()  # number of duplicates"
   ]
  },
  {
   "cell_type": "markdown",
   "id": "8f54df4f",
   "metadata": {},
   "source": [
    "**Nhận xét:**\n",
    "\n",
    "Trong bảng nutrients có 14.179 bản ghi bị trùng lặp hoàn toàn\n",
    "\n"
   ]
  },
  {
   "cell_type": "markdown",
   "id": "5ca48da9",
   "metadata": {},
   "source": [
    "Làm sạch dữ liệu chất dinh dưỡng(nutrients) và chuẩn hóa tên cột trong bảng thực phẩm"
   ]
  },
  {
   "cell_type": "code",
   "execution_count": 13,
   "id": "b16e5d73",
   "metadata": {},
   "outputs": [
    {
     "name": "stdout",
     "output_type": "stream",
     "text": [
      "<class 'pandas.core.frame.DataFrame'>\n",
      "RangeIndex: 6636 entries, 0 to 6635\n",
      "Data columns (total 4 columns):\n",
      " #   Column        Non-Null Count  Dtype \n",
      "---  ------        --------------  ----- \n",
      " 0   food          6636 non-null   object\n",
      " 1   fgroup        6636 non-null   object\n",
      " 2   id            6636 non-null   int64 \n",
      " 3   manufacturer  5195 non-null   object\n",
      "dtypes: int64(1), object(3)\n",
      "memory usage: 207.5+ KB\n"
     ]
    }
   ],
   "source": [
    "nutrients = nutrients.drop_duplicates()\n",
    "col_mapping = {\"description\" : \"food\",\n",
    "               \"group\"       : \"fgroup\"}\n",
    "info = info.rename(columns=col_mapping, copy=False)\n",
    "info.info()"
   ]
  },
  {
   "cell_type": "markdown",
   "id": "bc1beb4c",
   "metadata": {},
   "source": [
    "**Nhận xét:**\n",
    "\n",
    "Cột manufacturer có giá trị thiếu 1.441 dòng, khoảng 22% dữ liệu bị thiếu."
   ]
  },
  {
   "cell_type": "markdown",
   "id": "c33ee329",
   "metadata": {},
   "source": [
    "Chuẩn hóa tên cột trong bảng nutrients để dễ phân biệt và tránh trùng tên khi phân tích dữ liệu."
   ]
  },
  {
   "cell_type": "code",
   "execution_count": 14,
   "id": "4507f5f5",
   "metadata": {},
   "outputs": [
    {
     "data": {
      "text/html": [
       "<div>\n",
       "<style scoped>\n",
       "    .dataframe tbody tr th:only-of-type {\n",
       "        vertical-align: middle;\n",
       "    }\n",
       "\n",
       "    .dataframe tbody tr th {\n",
       "        vertical-align: top;\n",
       "    }\n",
       "\n",
       "    .dataframe thead th {\n",
       "        text-align: right;\n",
       "    }\n",
       "</style>\n",
       "<table border=\"1\" class=\"dataframe\">\n",
       "  <thead>\n",
       "    <tr style=\"text-align: right;\">\n",
       "      <th></th>\n",
       "      <th>value</th>\n",
       "      <th>units</th>\n",
       "      <th>nutrient</th>\n",
       "      <th>nutgroup</th>\n",
       "      <th>id</th>\n",
       "    </tr>\n",
       "  </thead>\n",
       "  <tbody>\n",
       "    <tr>\n",
       "      <th>0</th>\n",
       "      <td>25.180</td>\n",
       "      <td>g</td>\n",
       "      <td>Protein</td>\n",
       "      <td>Composition</td>\n",
       "      <td>1008</td>\n",
       "    </tr>\n",
       "    <tr>\n",
       "      <th>1</th>\n",
       "      <td>29.200</td>\n",
       "      <td>g</td>\n",
       "      <td>Total lipid (fat)</td>\n",
       "      <td>Composition</td>\n",
       "      <td>1008</td>\n",
       "    </tr>\n",
       "    <tr>\n",
       "      <th>2</th>\n",
       "      <td>3.060</td>\n",
       "      <td>g</td>\n",
       "      <td>Carbohydrate, by difference</td>\n",
       "      <td>Composition</td>\n",
       "      <td>1008</td>\n",
       "    </tr>\n",
       "    <tr>\n",
       "      <th>3</th>\n",
       "      <td>3.280</td>\n",
       "      <td>g</td>\n",
       "      <td>Ash</td>\n",
       "      <td>Other</td>\n",
       "      <td>1008</td>\n",
       "    </tr>\n",
       "    <tr>\n",
       "      <th>4</th>\n",
       "      <td>376.000</td>\n",
       "      <td>kcal</td>\n",
       "      <td>Energy</td>\n",
       "      <td>Energy</td>\n",
       "      <td>1008</td>\n",
       "    </tr>\n",
       "    <tr>\n",
       "      <th>...</th>\n",
       "      <td>...</td>\n",
       "      <td>...</td>\n",
       "      <td>...</td>\n",
       "      <td>...</td>\n",
       "      <td>...</td>\n",
       "    </tr>\n",
       "    <tr>\n",
       "      <th>389350</th>\n",
       "      <td>0.000</td>\n",
       "      <td>mcg</td>\n",
       "      <td>Vitamin B-12, added</td>\n",
       "      <td>Vitamins</td>\n",
       "      <td>43546</td>\n",
       "    </tr>\n",
       "    <tr>\n",
       "      <th>389351</th>\n",
       "      <td>0.000</td>\n",
       "      <td>mg</td>\n",
       "      <td>Cholesterol</td>\n",
       "      <td>Other</td>\n",
       "      <td>43546</td>\n",
       "    </tr>\n",
       "    <tr>\n",
       "      <th>389352</th>\n",
       "      <td>0.072</td>\n",
       "      <td>g</td>\n",
       "      <td>Fatty acids, total saturated</td>\n",
       "      <td>Other</td>\n",
       "      <td>43546</td>\n",
       "    </tr>\n",
       "    <tr>\n",
       "      <th>389353</th>\n",
       "      <td>0.028</td>\n",
       "      <td>g</td>\n",
       "      <td>Fatty acids, total monounsaturated</td>\n",
       "      <td>Other</td>\n",
       "      <td>43546</td>\n",
       "    </tr>\n",
       "    <tr>\n",
       "      <th>389354</th>\n",
       "      <td>0.041</td>\n",
       "      <td>g</td>\n",
       "      <td>Fatty acids, total polyunsaturated</td>\n",
       "      <td>Other</td>\n",
       "      <td>43546</td>\n",
       "    </tr>\n",
       "  </tbody>\n",
       "</table>\n",
       "<p>375176 rows × 5 columns</p>\n",
       "</div>"
      ],
      "text/plain": [
       "          value units                            nutrient     nutgroup     id\n",
       "0        25.180     g                             Protein  Composition   1008\n",
       "1        29.200     g                   Total lipid (fat)  Composition   1008\n",
       "2         3.060     g         Carbohydrate, by difference  Composition   1008\n",
       "3         3.280     g                                 Ash        Other   1008\n",
       "4       376.000  kcal                              Energy       Energy   1008\n",
       "...         ...   ...                                 ...          ...    ...\n",
       "389350    0.000   mcg                 Vitamin B-12, added     Vitamins  43546\n",
       "389351    0.000    mg                         Cholesterol        Other  43546\n",
       "389352    0.072     g        Fatty acids, total saturated        Other  43546\n",
       "389353    0.028     g  Fatty acids, total monounsaturated        Other  43546\n",
       "389354    0.041     g  Fatty acids, total polyunsaturated        Other  43546\n",
       "\n",
       "[375176 rows x 5 columns]"
      ]
     },
     "execution_count": 14,
     "metadata": {},
     "output_type": "execute_result"
    }
   ],
   "source": [
    "col_mapping = {\"description\" : \"nutrient\",\n",
    "               \"group\" : \"nutgroup\"}\n",
    "nutrients = nutrients.rename(columns=col_mapping, copy=False)\n",
    "nutrients"
   ]
  },
  {
   "cell_type": "markdown",
   "id": "88edb054",
   "metadata": {},
   "source": [
    "Gộp hai bảng dữ liệu nutrients và info"
   ]
  },
  {
   "cell_type": "code",
   "execution_count": 15,
   "id": "a3c7a988",
   "metadata": {},
   "outputs": [
    {
     "name": "stdout",
     "output_type": "stream",
     "text": [
      "<class 'pandas.core.frame.DataFrame'>\n",
      "RangeIndex: 375176 entries, 0 to 375175\n",
      "Data columns (total 8 columns):\n",
      " #   Column        Non-Null Count   Dtype  \n",
      "---  ------        --------------   -----  \n",
      " 0   value         375176 non-null  float64\n",
      " 1   units         375176 non-null  object \n",
      " 2   nutrient      375176 non-null  object \n",
      " 3   nutgroup      375176 non-null  object \n",
      " 4   id            375176 non-null  int64  \n",
      " 5   food          375176 non-null  object \n",
      " 6   fgroup        375176 non-null  object \n",
      " 7   manufacturer  293054 non-null  object \n",
      "dtypes: float64(1), int64(1), object(6)\n",
      "memory usage: 22.9+ MB\n"
     ]
    }
   ],
   "source": [
    "ndata = pd.merge(nutrients, info, on=\"id\")\n",
    "ndata.info()"
   ]
  },
  {
   "cell_type": "markdown",
   "id": "112e43a9",
   "metadata": {},
   "source": [
    "Truy cập và xem chi tiết một hàng cụ thể trong bảng ndata sau khi merge dữ liệu"
   ]
  },
  {
   "cell_type": "code",
   "execution_count": 16,
   "id": "92f23790",
   "metadata": {},
   "outputs": [
    {
     "data": {
      "text/plain": [
       "value                                             0.04\n",
       "units                                                g\n",
       "nutrient                                       Glycine\n",
       "nutgroup                                   Amino Acids\n",
       "id                                                6158\n",
       "food            Soup, tomato bisque, canned, condensed\n",
       "fgroup                      Soups, Sauces, and Gravies\n",
       "manufacturer                                          \n",
       "Name: 30000, dtype: object"
      ]
     },
     "execution_count": 16,
     "metadata": {},
     "output_type": "execute_result"
    }
   ],
   "source": [
    "ndata.iloc[30000]"
   ]
  },
  {
   "cell_type": "markdown",
   "id": "b1d93fca",
   "metadata": {},
   "source": [
    "**Nhận xét:**\n",
    "\n",
    "Phân tích hàm lượng Glycine trong món súp cà chua đóng hộp, thuộc nhóm thực phẩm \"Soups, Sauces, and Gravies\".\n"
   ]
  },
  {
   "cell_type": "markdown",
   "id": "16fea64e",
   "metadata": {},
   "source": [
    "So sánh giá trị trung vị (median) của hàm lượng kẽm (Zinc, Zn) trong các nhóm thực phẩm (fgroup)."
   ]
  },
  {
   "cell_type": "code",
   "execution_count": 18,
   "id": "88f29887",
   "metadata": {},
   "outputs": [
    {
     "data": {
      "image/png": "[encoded data removed]",
      "text/plain": [
       "<Figure size 640x480 with 1 Axes>"
      ]
     },
     "metadata": {},
     "output_type": "display_data"
    }
   ],
   "source": [
    "fig = plt.figure()\n",
    "result = ndata.groupby([\"nutrient\", \"fgroup\"])[\"value\"].quantile(0.5)\n",
    "result[\"Zinc, Zn\"].sort_values().plot(kind=\"barh\", title=\"Hàm lượng trung vị của kẽm (Zn) theo nhóm thực phẩm\")\n",
    "plt.savefig(\"images/fgroupzn.pdf\")"
   ]
  },
  {
   "cell_type": "markdown",
   "id": "dc96019d",
   "metadata": {},
   "source": [
    "**Nhận xét:**\n",
    "\n",
    "Beef Products và Lamb/Veal/Game Products thường có hàm lượng kẽm cao nhất.\n",
    "\n",
    "Cereals, Legumes, và Nuts/Seeds cũng chứa lượng kẽm đáng kể.\n",
    "\n",
    "Fruits, Vegetables, và Beverages có hàm lượng kẽm thấp.\n",
    "\n",
    "→ Biểu đồ giúp nhận ra những nhóm thực phẩm giàu kẽm nhất, hữu ích cho: Việc lập chế độ dinh dưỡng cân bằng và phân tích nguồn cung cấp vi chất trong thực phẩm."
   ]
  },
  {
   "cell_type": "markdown",
   "id": "0c6fe6c1",
   "metadata": {},
   "source": [
    "Tìm loại thực phẩm có hàm lượng cao nhất cho từng chất dinh dưỡng trong từng nhóm dinh dưỡng."
   ]
  },
  {
   "cell_type": "code",
   "execution_count": 19,
   "id": "a97da5e3",
   "metadata": {},
   "outputs": [
    {
     "name": "stderr",
     "output_type": "stream",
     "text": [
      "C:\\Users\\Admin\\AppData\\Local\\Temp\\ipykernel_15768\\1825454003.py:6: FutureWarning: DataFrameGroupBy.apply operated on the grouping columns. This behavior is deprecated, and in a future version of pandas the grouping columns will be excluded from the operation. Either pass `include_groups=False` to exclude the groupings or explicitly select the grouping columns after groupby to silence this warning.\n",
      "  max_foods = by_nutrient.apply(get_maximum)[[\"value\", \"food\"]]\n"
     ]
    }
   ],
   "source": [
    "by_nutrient = ndata.groupby([\"nutgroup\", \"nutrient\"])\n",
    "\n",
    "def get_maximum(x):\n",
    "    return x.loc[x.value.idxmax()]\n",
    "\n",
    "max_foods = by_nutrient.apply(get_maximum)[[\"value\", \"food\"]]\n",
    "\n",
    "# make the food a little smaller\n",
    "max_foods[\"food\"] = max_foods[\"food\"].str[:50]"
   ]
  },
  {
   "cell_type": "markdown",
   "id": "aa2a4321",
   "metadata": {},
   "source": [
    "**Nhận xét:**\n",
    "\n",
    "Tạo bảng tóm tắt thực phẩm giàu nhất về từng chất dinh dưỡng.\n",
    "\n",
    "Mỗi dòng thể hiện loại thực phẩm đứng đầu cho một chất dinh dưỡng cụ thể."
   ]
  },
  {
   "cell_type": "markdown",
   "id": "987cf638",
   "metadata": {},
   "source": [
    "Ví dụ: Đây là danh sách các thực phẩm chứa hàm lượng cao nhất cho mỗi loại axit amin trong nhóm “Amino Acids” của cơ sở dữ liệu USDA."
   ]
  },
  {
   "cell_type": "code",
   "execution_count": 20,
   "id": "0bdecf9f",
   "metadata": {},
   "outputs": [
    {
     "data": {
      "text/plain": [
       "nutrient\n",
       "Alanine                           Gelatins, dry powder, unsweetened\n",
       "Arginine                               Seeds, sesame flour, low-fat\n",
       "Aspartic acid                                   Soy protein isolate\n",
       "Cystine                Seeds, cottonseed flour, low fat (glandless)\n",
       "Glutamic acid                                   Soy protein isolate\n",
       "Glycine                           Gelatins, dry powder, unsweetened\n",
       "Histidine                Whale, beluga, meat, dried (Alaska Native)\n",
       "Hydroxyproline    KENTUCKY FRIED CHICKEN, Fried Chicken, ORIGINA...\n",
       "Isoleucine        Soy protein isolate, PROTEIN TECHNOLOGIES INTE...\n",
       "Leucine           Soy protein isolate, PROTEIN TECHNOLOGIES INTE...\n",
       "Lysine            Seal, bearded (Oogruk), meat, dried (Alaska Na...\n",
       "Methionine                    Fish, cod, Atlantic, dried and salted\n",
       "Phenylalanine     Soy protein isolate, PROTEIN TECHNOLOGIES INTE...\n",
       "Proline                           Gelatins, dry powder, unsweetened\n",
       "Serine            Soy protein isolate, PROTEIN TECHNOLOGIES INTE...\n",
       "Threonine         Soy protein isolate, PROTEIN TECHNOLOGIES INTE...\n",
       "Tryptophan         Sea lion, Steller, meat with fat (Alaska Native)\n",
       "Tyrosine          Soy protein isolate, PROTEIN TECHNOLOGIES INTE...\n",
       "Valine            Soy protein isolate, PROTEIN TECHNOLOGIES INTE...\n",
       "Name: food, dtype: object"
      ]
     },
     "execution_count": 20,
     "metadata": {},
     "output_type": "execute_result"
    }
   ],
   "source": [
    "max_foods.loc[\"Amino Acids\"][\"food\"]"
   ]
  },
  {
   "cell_type": "markdown",
   "id": "0259c90b",
   "metadata": {},
   "source": [
    "**Nhận xét:**\n",
    "\n",
    "Thực phẩm từ đậu nành (Soy protein isolate):\n",
    "\n",
    "Xuất hiện nhiều nhất trong danh sách (Aspartic acid, Glutamic acid, Leucine, Phenylalanine, Serine, Threonine, Tyrosine, Valine...).\n",
    "→ Đậu nành và các sản phẩm cô lập protein đậu nành là nguồn cung cấp axit amin hoàn chỉnh, đặc biệt phù hợp cho người ăn chay hoặc luyện tập thể hình.\n",
    "\n",
    "Gelatin (Gelatins, dry powder, unsweetened):\n",
    "\n",
    "Nổi bật ở các axit amin như Alanine, Glycine, Proline.\n",
    "→ Gelatin giàu collagen, góp phần vào sức khỏe da, tóc, móng và khớp.\n",
    "\n",
    "Thực phẩm nguồn gốc động vật:\n",
    "\n",
    "Histidine → Whale (thịt cá voi khô)\n",
    "\n",
    "Lysine → Seal (thịt hải cẩu khô)\n",
    "\n",
    "Tryptophan → Sea lion (hải sư)\n",
    "→ Đây là các dữ liệu thuộc nhóm thực phẩm bản địa (Alaska Native), cho thấy cơ sở dữ liệu USDA có phạm vi khá đa dạng.\n",
    "\n",
    "Các loại hạt và cá:\n",
    "\n",
    "Arginine → Hạt mè (sesame flour)\n",
    "\n",
    "Cystine → Hạt bông (cottonseed flour)\n",
    "\n",
    "Methionine → Cá tuyết khô (cod, dried and salted)\n",
    "→ Nguồn cung cấp axit amin chứa lưu huỳnh (Methionine, Cystine) thường đến từ hạt và cá biển."
   ]
  }
 ],
 "metadata": {
  "kernelspec": {
   "display_name": "Python 3",
   "language": "python",
   "name": "python3"
  },
  "language_info": {
   "codemirror_mode": {
    "name": "ipython",
    "version": 3
   },
   "file_extension": ".py",
   "mimetype": "text/x-python",
   "name": "python",
   "nbconvert_exporter": "python",
   "pygments_lexer": "ipython3",
   "version": "3.11.9"
  }
 },
 "nbformat": 4,
 "nbformat_minor": 5
}
