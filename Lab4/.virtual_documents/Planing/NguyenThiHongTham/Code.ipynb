














import numpy as np
import pandas as pd
from scipy import stats
# Load the .csv into a dataframe using read_csv
covid_data = pd.read_csv("Planing/NguyenThiHongTham/data/owid-covid-data.csv")
covid_data = covid_data[['iso_code','continent',
'location','date','total_cases','new_cases']]
# Take a quick look at the data
covid_data.head(5)
covid_data.dtypes
covid_data.shape
# Get the mean of the data
data_mean = np.mean(covid_data["new_cases"])
# Get the median of the data
data_median = np.median(covid_data["new_cases"])
# Get the mode of the data
data_mode = stats.mode(covid_data["new_cases"])
# Obtain the variance of the data
data_variance = np.var(covid_data["new_cases"])
# Obtain the standard deviation of the data
data_sd = np.std(covid_data["new_cases"])
# Compute the maximum and minimum values of the data
data_max = np.max(covid_data["new_cases"])
data_min = np.min(covid_data["new_cases"])
# Obtain the 60th percentile of the data
data_percentile = np.percentile(covid_data["new_cases"],60)
# Obtain the quartiles of the data
data_quartile = np.quantile(covid_data["new_cases"],0.75)
# Get the IQR of the data
data_IQR = stats.iqr(covid_data["new_cases"])








import pandas as pd
marketing_data = pd.read_csv("Planing/NguyenThiHongTham/data/marketing_campaign.csv", sep='\t')
marketing_data = marketing_data[['ID','Year_Birth', 'Education',
'Marital_Status','Income','Kidhome', 'Teenhome',
'Dt_Customer', 'Recency','NumStorePurchases',
'NumWebVisitsMonth']]








marketing_data.head()
# Remove duplicates across the columns in our dataset:
marketing_data_duplicate = marketing_data.drop_duplicates()
# Delete a specified row at index value 1:
marketing_data.drop(labels=[1], axis=0)
# Delete a single column
marketing_data.drop(labels=['Year_Birth'], axis=1)





# Replace the values in Teenhome with has teen and has no teen
marketing_data['Teenhome_replaced'] =marketing_data['Teenhome'].replace([0,1,2],['has no teen','has teen','has teen'])
# Fill NAs in the Income column
marketing_data['Income'] = marketing_data['Income'].fillna(0)
# Change the data type of the Income column from float to int
marketing_data['Income_changed'] = marketing_data['Income'].astype(int)





# Check for missing values using the isnull and sum methods
marketing_data.isnull().sum()
# Drop missing values using the dropna method
marketing_data_withoutna = marketing_data.dropna(how = 'any')
marketing_data_withoutna.shape





import pandas as pd

# Đọc dữ liệu từ file CSV
covid_data = pd.read_csv("Planing/NguyenThiHongTham/data/winequality-red.csv")
# In 5 dòng đầu tiên
print(covid_data.head())








import pandas as pd

# Đọc dữ liệu từ file CSV
covid_data = pd.read_csv("Planing/NguyenThiHongTham/data/diabetes.csv")
# In 5 dòng đầu tiên
print(covid_data.head())























import pandas as pd
houseprices_data = pd.read_csv("Planing/NguyenThiHongTham/data/HousingPrices-Amsterdam-August-2021.csv")
houseprices_data = houseprices_data[['Zip', 'Price', 'Area', 'Room']]
# Create a PriceperSqm variable based on the Price and Area variables:
houseprices_data['PriceperSqm'] = houseprices_data['Price']/houseprices_data['Area']





import matplotlib.pyplot as plt

houseprices_sorted = houseprices_data.sort_values('Price', ascending =
False)
houseprices_sorted.head()
# case 1: basic
plt.figure(figsize= (12,6))
x = houseprices_sorted['Zip'][0:10]
y = houseprices_sorted['Price'][0:10]
plt.bar(x,y)
plt.show()
# case 2: advanced 1
plt.figure(figsize= (12,6))
plt.bar(x,y)
plt.title('Top 10 Areas with the highest house prices', fontsize=15)
plt.xlabel('Zip code', fontsize = 12)
plt.xticks(fontsize=10)
plt.ylabel('House prices in millions', fontsize=12)
plt.yticks(fontsize=10)
plt.show()
# case 3: advanced 2
fig, ax = plt.subplots(figsize=(40,18))
x = houseprices_sorted['Zip'][0:10]
y = houseprices_sorted['Price'][0:10]
y1 = houseprices_sorted['PriceperSqm'][0:10]
plt.subplot(1,2,1)
plt.bar(x,y)
plt.xticks(fontsize=17)
plt.ylabel('House prices in millions', fontsize=25)
plt.yticks(fontsize=20)
plt.title('Top 10 Areas with the highest house prices',
fontsize=25)
plt.subplot(1,2,2)
plt.bar(x,y1)
plt.xticks(fontsize=17)
plt.ylabel('House prices per sqm', fontsize=25)
plt.yticks(fontsize=20)
plt.title('Top 10 Areas with the highest house prices per sqm',
fontsize=25)
plt.show()





import matplotlib.pyplot as plt
import seaborn as sns
# case 1: basic
plt.figure(figsize= (12,6))
data = houseprices_sorted[0:10]
sns.barplot(data= data, x= 'Zip',y = 'Price')
# case 2: advanced 1
plt.figure(figsize= (12,6))
data = houseprices_sorted[0:10]
ax = sns.barplot(data= data, x= 'Zip',y = 'Price')
ax.set_xlabel('Zip code',fontsize = 15)
ax.set_ylabel('House prices in millions', fontsize = 15)
ax.set_title('Top 10 Areas with the highest house prices', fontsize= 20)
# case 3: view multiple perspectives at once
fig, ax = plt.subplots(1, 2,figsize=(40,18))
data = houseprices_sorted[0:10]
sns.set(font_scale = 3)
ax1 = sns.barplot(data= data, x= 'Zip',y = 'Price', ax = ax[0])
ax1.set_xlabel('Zip code')
ax1.set_ylabel('House prices in millions')
ax1.set_title('Top 10 Areas with the highest house prices')
ax2 = sns.barplot(data= data, x= 'Zip',y = 'PriceperSqm',
ax=ax[1])
ax2.set_xlabel('Zip code')
ax2.set_ylabel('House prices per sqm')
ax2.set_title('Top 10 Areas with the highest price per sqm')





import matplotlib.pyplot as plt
import seaborn as sns

# Cấu hình style
sns.set_style("whitegrid")
sns.set(font_scale=1.2)

# Lấy dữ liệu top 10
data = houseprices_sorted[0:10]

# case 1: basic
plt.figure(figsize=(12,6))
sns.barplot(data=data, x='Zip', y='Price',
            hue='Zip', palette='pastel', errorbar=None, legend=False)
plt.title('Top 10 Areas with the highest house prices (Basic)', fontsize=15)
plt.xlabel('Zip code', fontsize=12)
plt.ylabel('House prices in millions', fontsize=12)
plt.show()

# case 2: advanced 1
plt.figure(figsize=(12,6))
ax = sns.barplot(data=data, x='Zip', y='Price',
                 hue='Zip', palette='viridis', errorbar=None, legend=False)
ax.set_xlabel('Zip code', fontsize=15)
ax.set_ylabel('House prices in millions', fontsize=15)
ax.set_title('Top 10 Areas with the highest house prices', fontsize=20)
plt.show()

# case 3: view multiple perspectives at once
fig, ax = plt.subplots(1, 2, figsize=(40,18))
sns.set(font_scale=3)

# Biểu đồ giá
ax1 = sns.barplot(data=data, x='Zip', y='Price',
                  hue='Zip', palette='magma', errorbar=None, ax=ax[0], legend=False)
ax1.set_xlabel('Zip code')
ax1.set_ylabel('House prices in millions')
ax1.set_title('Top 10 Areas with the highest house prices')

# Biểu đồ giá/m2
ax2 = sns.barplot(data=data, x='Zip', y='PriceperSqm',
                  hue='Zip', palette='coolwarm', errorbar=None, ax=ax[1], legend=False)
ax2.set_xlabel('Zip code')
ax2.set_ylabel('House prices per sqm')
ax2.set_title('Top 10 Areas with the highest price per sqm')

plt.show()






import pandas as pd

# Đọc dữ liệu từ file CSV
covid_data = pd.read_csv("Planing/NguyenThiHongTham/data/winequality-red.csv")
# In 5 dòng đầu tiên
print(covid_data.head())








import pandas as pd

# Đọc dữ liệu từ file CSV
covid_data = pd.read_csv("Planing/NguyenThiHongTham/data/diabetes.csv")
# In 5 dòng đầu tiên
print(covid_data.head())





import pandas as pd

# Đọc dữ liệu từ file CSV
covid_data = pd.read_csv("Planing/NguyenThiHongTham/data/marketing_campaign.csv")
# In 5 dòng đầu tiên
print(covid_data.head())




















import pandas as pd

# Đọc dữ liệu từ file CSV
covid_data = pd.read_csv("Planing/NguyenThiHongTham/data/penguins_lter.csv")
# In 5 dòng đầu tiên
print(covid_data.columns)






import pandas as pd
import matplotlib.pyplot as plt
import seaborn as sns
penguins_data = pd.read_csv("Planing/NguyenThiHongTham/data/penguins_lter.csv")
penguins_data = penguins_data[['Species', 'Culmen Length (mm)']]







# case 1: basic
sns.histplot( data = penguins_data, x= penguins_data["Culmen Length (mm)"])
# case 2: advanced
plt.figure(figsize= (12,6))
ax = sns.histplot( data = penguins_data, x=penguins_data["Culmen Length (mm)"])
ax.set_xlabel('Culmen Length in mm',fontsize = 15)
ax.set_ylabel('Count of records', fontsize = 15)
ax.set_title('Univariate analysis of Culmen Length',fontsize= 20)





# case 1: basic
sns.countplot(data = penguins_data, x= penguins_data['Species'])
# case 2: advanced
plt.figure(figsize= (12,6))
ax = sns.countplot(data = penguins_data, x= penguins_data['Species'])
ax.set_xlabel('Penguin Species',fontsize = 15)
ax.set_ylabel('Count of records',fontsize = 15)
ax.set_title('Univariate analysis of Penguin Species', fontsize= 20)
ax.set_title('Univariate analysis of Culmen Length', fontsize= 20)






penguins_group = penguins_data.groupby('Species').count()
penguins_group = penguins_group.reset_index()
# case 1: basic
plt.pie(penguins_group["Culmen Length (mm)"], labels =
penguins_group['Species'])
plt.show()
# case 2: advanced
cols = ['g', 'b', 'r']
plt.pie(penguins_group["Culmen Length (mm)"], labels =
penguins_group['Species'],colors = cols)
plt.title('Univariate Analysis of Species', fontsize=15)
plt.show()








import pandas as pd
import matplotlib.pyplot as plt
import seaborn as sns
houseprices_data = pd.read_csv("Planing/NguyenThiHongTham/data/HousingPrices-Amsterdam-August-2021.csv")
houseprices_data = houseprices_data[['Zip','Price','Area','Room']]
# case 1: Create a boxplot using the boxplot method
sns.boxplot(data = houseprices_data, x= houseprices_data["Price"])
# case 2: advanced
plt.figure(figsize= (12,6))
ax = sns.boxplot(data = houseprices_data, x= houseprices_data["Price"])
ax.set_xlabel('House Prices in millions',fontsize = 15)
ax.set_title('Univariate analysis of House Prices', fontsize= 20)
plt.ticklabel_format(style='plain', axis='x')





# case 1: basic
sns.violinplot(data = houseprices_data, x= houseprices_data["Price"])
# case 2: advanced
plt.figure(figsize= (12,6))
ax = sns.violinplot(data = houseprices_data, x=houseprices_data["Price"])
ax.set_xlabel('House Prices in millions',fontsize = 15)
ax.set_title('Univariate analysis of House Prices', fontsize= 20)
plt.ticklabel_format(style='plain', axis='x')





houseprices_data.describe()











import pandas as pd
import matplotlib.pyplot as plt
import seaborn as sns
penguins_data = pd.read_csv("Planing/NguyenThiHongTham/data/penguins_lter.csv")
penguins_data = penguins_data[['Species','Culmen Length (mm)','Body Mass (g)']]





# case 1: basic
sns.scatterplot(data = penguins_data, x= penguins_data["Culmen Length (mm)"],
y= penguins_data['Body Mass (g)'])
# case 2: advanced
plt.figure(figsize= (12,6))
ax = sns.scatterplot(data = penguins_data,
x= penguins_data["Culmen Length (mm)"],
y= penguins_data['Body Mass (g)'])
ax.set_title('Bivariate analysis of Culmen Length and body mass', fontsize=
20)





print(penguins_data.columns.tolist())



penguins_data = pd.read_csv("Planing/NguyenThiHongTham/data/penguins_lter.csv")
pd.crosstab(index= penguins_data['Species'], columns= penguins_data['Sex'])





import pandas as pd

pd.pivot_table(
    penguins_data,
    values="Culmen Length (mm)",
    index="Species",
    aggfunc="mean"
)






import seaborn as sns
sns.pairplot( data = penguins_data)




















import sys
print(sys.executable)






import pandas as pd
from ydata_profiling import ProfileReport
marketing_data = pd.read_csv("Planing/NguyenThiHongTham/data/marketing_campaign.csv")
# Create an Automated EDA report using the ProfileReport class in theydata_profiling library. Use the to_file method to output the report to anHTML file
profile = ProfileReport(marketing_data)
profile.to_file("Reports/profile_output.html")














import pandas as pd
import dtale
marketing_data = pd.read_csv("data/marketing_campaign.csv")
dtale.show(marketing_data).open_browser()









