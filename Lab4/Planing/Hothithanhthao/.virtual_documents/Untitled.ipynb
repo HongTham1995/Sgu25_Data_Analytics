import numpy as np
import pandas as pd
from scipy import stats


# Load the .csv into a dataframe using read_csv
covid_data = pd.read_csv("owid-covid-data.csv")
covid_data = covid_data[['iso_code','continent',
'location','date','total_cases','new_cases']]


# Take a quick look at the data
covid_data.head(5)


covid_data.dtypes


covid_data.shape


# Get the mean of the data
data_mean = np.mean(covid_data["new_cases"])
data_mean


# Get the median of the data
data_median = np.median(covid_data["new_cases"])
data_median


# Get the mode of the data
data_mode = stats.mode(covid_data["new_cases"])
data_mode


# Obtain the variance of the data
data_variance = np.var(covid_data["new_cases"])
data_variance


# Obtain the standard deviation of the data
data_sd = np.std(covid_data["new_cases"])
data_sd


# Compute the maximum and minimum values of the data
data_max = np.max(covid_data["new_cases"])
data_min = np.min(covid_data["new_cases"])


data_max


data_min





# Obtain the 60th percentile of the data
data_percentile = np.percentile(covid_data["new_cases"],60)
data_percentile


# Obtain the quartiles of the data
data_quartile = np.quantile(covid_data["new_cases"],0.75)
data_quartile


# Get the IQR of the data
data_IQR = stats.iqr(covid_data["new_cases"])
data_IQR



